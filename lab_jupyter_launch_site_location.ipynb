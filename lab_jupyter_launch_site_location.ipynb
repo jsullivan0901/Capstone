{
  "metadata": {
    "kernelspec": {
      "name": "python",
      "display_name": "Python (Pyodide)",
      "language": "python"
    },
    "language_info": {
      "codemirror_mode": {
        "name": "python",
        "version": 3
      },
      "file_extension": ".py",
      "mimetype": "text/x-python",
      "name": "python",
      "nbconvert_exporter": "python",
      "pygments_lexer": "ipython3",
      "version": "3.8"
    },
    "prev_pub_hash": "0f9db842b41c859223722809f8be602f5df9334348bd206b11e3af58c30eb345"
  },
  "nbformat_minor": 4,
  "nbformat": 4,
  "cells": [
    {
      "cell_type": "markdown",
      "source": "<p style=\"text-align:center\">\n    <a href=\"https://skills.network/?utm_medium=Exinfluencer&utm_source=Exinfluencer&utm_content=000026UJ&utm_term=10006555&utm_id=NA-SkillsNetwork-Channel-SkillsNetworkCoursesIBMDS0321ENSkillsNetwork26802033-2022-01-01\" target=\"_blank\">\n    <img src=\"https://cf-courses-data.s3.us.cloud-object-storage.appdomain.cloud/assets/logos/SN_web_lightmode.png\" width=\"200\" alt=\"Skills Network Logo\">\n    </a>\n</p>\n",
      "metadata": {}
    },
    {
      "cell_type": "markdown",
      "source": "# **Hands-on Lab: Interactive Visual Analytics with Folium**\n",
      "metadata": {}
    },
    {
      "cell_type": "markdown",
      "source": "Estimated time needed: **40** minutes\n",
      "metadata": {}
    },
    {
      "cell_type": "markdown",
      "source": "The launch success rate may depend on many factors such as payload mass, orbit type, and so on. It may also depend on the location and proximities of a launch site, i.e., the initial position of rocket trajectories. Finding an optimal location for building a launch site certainly involves many factors and hopefully we could discover some of the factors by analyzing the existing launch site locations.\n",
      "metadata": {}
    },
    {
      "cell_type": "markdown",
      "source": "In the previous exploratory data analysis labs, you have visualized the SpaceX launch dataset using `matplotlib` and `seaborn` and discovered some preliminary correlations between the launch site and success rates. In this lab, you will be performing more interactive visual analytics using `Folium`.\n",
      "metadata": {}
    },
    {
      "cell_type": "markdown",
      "source": "## Objectives\n",
      "metadata": {}
    },
    {
      "cell_type": "markdown",
      "source": "This lab contains the following tasks:\n\n*   **TASK 1:** Mark all launch sites on a map\n*   **TASK 2:** Mark the success/failed launches for each site on the map\n*   **TASK 3:** Calculate the distances between a launch site to its proximities\n\nAfter completed the above tasks, you should be able to find some geographical patterns about launch sites.\n",
      "metadata": {}
    },
    {
      "cell_type": "markdown",
      "source": "Let's first import required Python packages for this lab:\n",
      "metadata": {}
    },
    {
      "cell_type": "code",
      "source": "import piplite\nawait piplite.install(['folium'])\nawait piplite.install(['pandas'])",
      "metadata": {
        "trusted": true
      },
      "outputs": [],
      "execution_count": 1
    },
    {
      "cell_type": "code",
      "source": "import folium\nimport pandas as pd",
      "metadata": {
        "trusted": true
      },
      "outputs": [],
      "execution_count": 2
    },
    {
      "cell_type": "code",
      "source": "# Import folium MarkerCluster plugin\nfrom folium.plugins import MarkerCluster\n# Import folium MousePosition plugin\nfrom folium.plugins import MousePosition\n# Import folium DivIcon plugin\nfrom folium.features import DivIcon",
      "metadata": {
        "trusted": true
      },
      "outputs": [],
      "execution_count": 3
    },
    {
      "cell_type": "markdown",
      "source": "If you need to refresh your memory about folium, you may download and refer to this previous folium lab:\n",
      "metadata": {}
    },
    {
      "cell_type": "markdown",
      "source": "[Generating Maps with Python](https://cf-courses-data.s3.us.cloud-object-storage.appdomain.cloud/IBMDeveloperSkillsNetwork-DV0101EN-SkillsNetwork/labs/v4/DV0101EN-Exercise-Generating-Maps-in-Python.ipynb)\n",
      "metadata": {}
    },
    {
      "cell_type": "code",
      "source": "## Task 1: Mark all launch sites on a map\n",
      "metadata": {
        "trusted": true
      },
      "outputs": [],
      "execution_count": 4
    },
    {
      "cell_type": "markdown",
      "source": "First, let's try to add each site's location on a map using site's latitude and longitude coordinates\n",
      "metadata": {}
    },
    {
      "cell_type": "markdown",
      "source": "The following dataset with the name `spacex_launch_geo.csv` is an augmented dataset with latitude and longitude added for each site.\n",
      "metadata": {}
    },
    {
      "cell_type": "code",
      "source": "# Download and read the `spacex_launch_geo.csv`\nfrom js import fetch\nimport io\n\nURL = 'https://cf-courses-data.s3.us.cloud-object-storage.appdomain.cloud/IBM-DS0321EN-SkillsNetwork/datasets/spacex_launch_geo.csv'\nresp = await fetch(URL)\nspacex_csv_file = io.BytesIO((await resp.arrayBuffer()).to_py())\nspacex_df=pd.read_csv(spacex_csv_file)",
      "metadata": {
        "trusted": true
      },
      "outputs": [],
      "execution_count": 5
    },
    {
      "cell_type": "markdown",
      "source": "Now, you can take a look at what are the coordinates for each site.\n",
      "metadata": {}
    },
    {
      "cell_type": "code",
      "source": "# Select relevant sub-columns: `Launch Site`, `Lat(Latitude)`, `Long(Longitude)`, `class`\nspacex_df = spacex_df[['Launch Site', 'Lat', 'Long', 'class']]\nlaunch_sites_df = spacex_df.groupby(['Launch Site'], as_index=False).first()\nlaunch_sites_df = launch_sites_df[['Launch Site', 'Lat', 'Long']]\nlaunch_sites_df",
      "metadata": {
        "trusted": true
      },
      "outputs": [
        {
          "execution_count": 6,
          "output_type": "execute_result",
          "data": {
            "text/plain": "    Launch Site        Lat        Long\n0   CCAFS LC-40  28.562302  -80.577356\n1  CCAFS SLC-40  28.563197  -80.576820\n2    KSC LC-39A  28.573255  -80.646895\n3   VAFB SLC-4E  34.632834 -120.610745",
            "text/html": "<div>\n<style scoped>\n    .dataframe tbody tr th:only-of-type {\n        vertical-align: middle;\n    }\n\n    .dataframe tbody tr th {\n        vertical-align: top;\n    }\n\n    .dataframe thead th {\n        text-align: right;\n    }\n</style>\n<table border=\"1\" class=\"dataframe\">\n  <thead>\n    <tr style=\"text-align: right;\">\n      <th></th>\n      <th>Launch Site</th>\n      <th>Lat</th>\n      <th>Long</th>\n    </tr>\n  </thead>\n  <tbody>\n    <tr>\n      <th>0</th>\n      <td>CCAFS LC-40</td>\n      <td>28.562302</td>\n      <td>-80.577356</td>\n    </tr>\n    <tr>\n      <th>1</th>\n      <td>CCAFS SLC-40</td>\n      <td>28.563197</td>\n      <td>-80.576820</td>\n    </tr>\n    <tr>\n      <th>2</th>\n      <td>KSC LC-39A</td>\n      <td>28.573255</td>\n      <td>-80.646895</td>\n    </tr>\n    <tr>\n      <th>3</th>\n      <td>VAFB SLC-4E</td>\n      <td>34.632834</td>\n      <td>-120.610745</td>\n    </tr>\n  </tbody>\n</table>\n</div>"
          },
          "metadata": {}
        }
      ],
      "execution_count": 6
    },
    {
      "cell_type": "markdown",
      "source": "Above coordinates are just plain numbers that can not give you any intuitive insights about where are those launch sites. If you are very good at geography, you can interpret those numbers directly in your mind. If not, that's fine too. Let's visualize those locations by pinning them on a map.\n",
      "metadata": {}
    },
    {
      "cell_type": "markdown",
      "source": "We first need to create a folium `Map` object, with an initial center location to be NASA Johnson Space Center at Houston, Texas.\n",
      "metadata": {}
    },
    {
      "cell_type": "code",
      "source": "# Start location is NASA Johnson Space Center\nnasa_coordinate = [29.559684888503615, -95.0830971930759]\nsite_map = folium.Map(location=nasa_coordinate, zoom_start=10)",
      "metadata": {
        "trusted": true
      },
      "outputs": [],
      "execution_count": 7
    },
    {
      "cell_type": "markdown",
      "source": "We could use `folium.Circle` to add a highlighted circle area with a text label on a specific coordinate. For example,\n",
      "metadata": {}
    },
    {
      "cell_type": "code",
      "source": "# Create a blue circle at NASA Johnson Space Center's coordinate with a popup label showing its name\ncircle = folium.Circle(nasa_coordinate, radius=1000, color='#d35400', fill=True).add_child(folium.Popup('NASA Johnson Space Center'))\n# Create a blue circle at NASA Johnson Space Center's coordinate with a icon showing its name\nmarker = folium.map.Marker(\n    nasa_coordinate,\n    # Create an icon as a text label\n    icon=DivIcon(\n        icon_size=(20,20),\n        icon_anchor=(0,0),\n        html='<div style=\"font-size: 12; color:#d35400;\"><b>%s</b></div>' % 'NASA JSC',\n        )\n    )\nsite_map.add_child(circle)\nsite_map.add_child(marker)",
      "metadata": {
        "trusted": true
      },
      "outputs": [
        {
          "execution_count": 8,
          "output_type": "execute_result",
          "data": {
            "text/plain": "<folium.folium.Map at 0x4fc2700>",
            "text/html": "<div style=\"width:100%;\"><div style=\"position:relative;width:100%;height:0;padding-bottom:60%;\"><span style=\"color:#565656\">Make this Notebook Trusted to load map: File -> Trust Notebook</span><iframe srcdoc=\"&lt;!DOCTYPE html&gt;\n&lt;html&gt;\n&lt;head&gt;\n    \n    &lt;meta http-equiv=&quot;content-type&quot; content=&quot;text/html; charset=UTF-8&quot; /&gt;\n    \n        &lt;script&gt;\n            L_NO_TOUCH = false;\n            L_DISABLE_3D = false;\n        &lt;/script&gt;\n    \n    &lt;style&gt;html, body {width: 100%;height: 100%;margin: 0;padding: 0;}&lt;/style&gt;\n    &lt;style&gt;#map {position:absolute;top:0;bottom:0;right:0;left:0;}&lt;/style&gt;\n    &lt;script src=&quot;https://cdn.jsdelivr.net/npm/leaflet@1.9.3/dist/leaflet.js&quot;&gt;&lt;/script&gt;\n    &lt;script src=&quot;https://code.jquery.com/jquery-3.7.1.min.js&quot;&gt;&lt;/script&gt;\n    &lt;script src=&quot;https://cdn.jsdelivr.net/npm/bootstrap@5.2.2/dist/js/bootstrap.bundle.min.js&quot;&gt;&lt;/script&gt;\n    &lt;script src=&quot;https://cdnjs.cloudflare.com/ajax/libs/Leaflet.awesome-markers/2.0.2/leaflet.awesome-markers.js&quot;&gt;&lt;/script&gt;\n    &lt;link rel=&quot;stylesheet&quot; href=&quot;https://cdn.jsdelivr.net/npm/leaflet@1.9.3/dist/leaflet.css&quot;/&gt;\n    &lt;link rel=&quot;stylesheet&quot; href=&quot;https://cdn.jsdelivr.net/npm/bootstrap@5.2.2/dist/css/bootstrap.min.css&quot;/&gt;\n    &lt;link rel=&quot;stylesheet&quot; href=&quot;https://netdna.bootstrapcdn.com/bootstrap/3.0.0/css/bootstrap-glyphicons.css&quot;/&gt;\n    &lt;link rel=&quot;stylesheet&quot; href=&quot;https://cdn.jsdelivr.net/npm/@fortawesome/fontawesome-free@6.2.0/css/all.min.css&quot;/&gt;\n    &lt;link rel=&quot;stylesheet&quot; href=&quot;https://cdnjs.cloudflare.com/ajax/libs/Leaflet.awesome-markers/2.0.2/leaflet.awesome-markers.css&quot;/&gt;\n    &lt;link rel=&quot;stylesheet&quot; href=&quot;https://cdn.jsdelivr.net/gh/python-visualization/folium/folium/templates/leaflet.awesome.rotate.min.css&quot;/&gt;\n    \n            &lt;meta name=&quot;viewport&quot; content=&quot;width=device-width,\n                initial-scale=1.0, maximum-scale=1.0, user-scalable=no&quot; /&gt;\n            &lt;style&gt;\n                #map_cfdfb24f7e3d60973179f802fd38e9dd {\n                    position: relative;\n                    width: 100.0%;\n                    height: 100.0%;\n                    left: 0.0%;\n                    top: 0.0%;\n                }\n                .leaflet-container { font-size: 1rem; }\n            &lt;/style&gt;\n        \n&lt;/head&gt;\n&lt;body&gt;\n    \n    \n            &lt;div class=&quot;folium-map&quot; id=&quot;map_cfdfb24f7e3d60973179f802fd38e9dd&quot; &gt;&lt;/div&gt;\n        \n&lt;/body&gt;\n&lt;script&gt;\n    \n    \n            var map_cfdfb24f7e3d60973179f802fd38e9dd = L.map(\n                &quot;map_cfdfb24f7e3d60973179f802fd38e9dd&quot;,\n                {\n                    center: [29.559684888503615, -95.0830971930759],\n                    crs: L.CRS.EPSG3857,\n                    zoom: 10,\n                    zoomControl: true,\n                    preferCanvas: false,\n                }\n            );\n\n            \n\n        \n    \n            var tile_layer_a338821a7e6a63533916e21de4b3f377 = L.tileLayer(\n                &quot;https://tile.openstreetmap.org/{z}/{x}/{y}.png&quot;,\n                {&quot;attribution&quot;: &quot;\\u0026copy; \\u003ca href=\\&quot;https://www.openstreetmap.org/copyright\\&quot;\\u003eOpenStreetMap\\u003c/a\\u003e contributors&quot;, &quot;detectRetina&quot;: false, &quot;maxNativeZoom&quot;: 19, &quot;maxZoom&quot;: 19, &quot;minZoom&quot;: 0, &quot;noWrap&quot;: false, &quot;opacity&quot;: 1, &quot;subdomains&quot;: &quot;abc&quot;, &quot;tms&quot;: false}\n            );\n        \n    \n            tile_layer_a338821a7e6a63533916e21de4b3f377.addTo(map_cfdfb24f7e3d60973179f802fd38e9dd);\n        \n    \n            var circle_6dcd17473e7fb1373a700cfa58f5d024 = L.circle(\n                [29.559684888503615, -95.0830971930759],\n                {&quot;bubblingMouseEvents&quot;: true, &quot;color&quot;: &quot;#d35400&quot;, &quot;dashArray&quot;: null, &quot;dashOffset&quot;: null, &quot;fill&quot;: true, &quot;fillColor&quot;: &quot;#d35400&quot;, &quot;fillOpacity&quot;: 0.2, &quot;fillRule&quot;: &quot;evenodd&quot;, &quot;lineCap&quot;: &quot;round&quot;, &quot;lineJoin&quot;: &quot;round&quot;, &quot;opacity&quot;: 1.0, &quot;radius&quot;: 1000, &quot;stroke&quot;: true, &quot;weight&quot;: 3}\n            ).addTo(map_cfdfb24f7e3d60973179f802fd38e9dd);\n        \n    \n        var popup_15a7541c9a0b7e063c66abf45100f6f5 = L.popup({&quot;maxWidth&quot;: &quot;100%&quot;});\n\n        \n            \n                var html_fec743485ead1942024c9647d2fa1f7f = $(`&lt;div id=&quot;html_fec743485ead1942024c9647d2fa1f7f&quot; style=&quot;width: 100.0%; height: 100.0%;&quot;&gt;NASA Johnson Space Center&lt;/div&gt;`)[0];\n                popup_15a7541c9a0b7e063c66abf45100f6f5.setContent(html_fec743485ead1942024c9647d2fa1f7f);\n            \n        \n\n        circle_6dcd17473e7fb1373a700cfa58f5d024.bindPopup(popup_15a7541c9a0b7e063c66abf45100f6f5)\n        ;\n\n        \n    \n    \n            var marker_51272a33a0406c062cdb61fee24bd5d5 = L.marker(\n                [29.559684888503615, -95.0830971930759],\n                {}\n            ).addTo(map_cfdfb24f7e3d60973179f802fd38e9dd);\n        \n    \n            var div_icon_03300a04d6d2b078b509b3e5b5e8af9f = L.divIcon({&quot;className&quot;: &quot;empty&quot;, &quot;html&quot;: &quot;\\u003cdiv style=\\&quot;font-size: 12; color:#d35400;\\&quot;\\u003e\\u003cb\\u003eNASA JSC\\u003c/b\\u003e\\u003c/div\\u003e&quot;, &quot;iconAnchor&quot;: [0, 0], &quot;iconSize&quot;: [20, 20]});\n            marker_51272a33a0406c062cdb61fee24bd5d5.setIcon(div_icon_03300a04d6d2b078b509b3e5b5e8af9f);\n        \n&lt;/script&gt;\n&lt;/html&gt;\" style=\"position:absolute;width:100%;height:100%;left:0;top:0;border:none !important;\" allowfullscreen webkitallowfullscreen mozallowfullscreen></iframe></div></div>"
          },
          "metadata": {}
        }
      ],
      "execution_count": 8
    },
    {
      "cell_type": "markdown",
      "source": "and you should find a small yellow circle near the city of Houston and you can zoom-in to see a larger circle.\n",
      "metadata": {}
    },
    {
      "cell_type": "markdown",
      "source": "Now, let's add a circle for each launch site in data frame `launch_sites`\n",
      "metadata": {}
    },
    {
      "cell_type": "markdown",
      "source": "*TODO:*  Create and add `folium.Circle` and `folium.Marker` for each launch site on the site map\n",
      "metadata": {}
    },
    {
      "cell_type": "markdown",
      "source": "An example of folium.Circle:\n",
      "metadata": {}
    },
    {
      "cell_type": "markdown",
      "source": "`folium.Circle(coordinate, radius=1000, color='#000000', fill=True).add_child(folium.Popup(...))`\n",
      "metadata": {}
    },
    {
      "cell_type": "markdown",
      "source": "An example of folium.Marker:\n",
      "metadata": {}
    },
    {
      "cell_type": "markdown",
      "source": "`folium.map.Marker(coordinate, icon=DivIcon(icon_size=(20,20),icon_anchor=(0,0), html='<div style=\"font-size: 12; color:#d35400;\"><b>%s</b></div>' % 'label', ))`\n",
      "metadata": {}
    },
    {
      "cell_type": "code",
      "source": "# Initial the map\nsite_map = folium.Map(location=nasa_coordinate, zoom_start=5)\n# For each launch site, add a Circle object based on its coordinate (Lat, Long) values. In addition, add Launch site name as a popup label\nfor index, row in launch_sites_df.iterrows():\n    coordinate=[row['Lat'], row['Long']]\n    launch_site_name=row['Launch Site']\n    \n    circle = folium.Circle(coordinate, radius=1000, color='#d35400', fill=True).add_child(folium.Popup(row['Launch Site']))\n\n    marker = folium.map.Marker(\n    coordinate,\n    # Create an icon as a text label\n    icon=DivIcon(\n        icon_size=(20,20),\n        icon_anchor=(0,0),\n        html='<div style=\"font-size: 12; color:#d35400;\"><b>%s</b></div>' % launch_site_name,\n        )\n    )\n    marker.add_child(folium.Popup(launch_site_name))\n    site_map.add_child(marker)\n\nsite_map\n",
      "metadata": {
        "trusted": true
      },
      "outputs": [
        {
          "execution_count": 16,
          "output_type": "execute_result",
          "data": {
            "text/plain": "<folium.folium.Map at 0x4efe840>",
            "text/html": "<div style=\"width:100%;\"><div style=\"position:relative;width:100%;height:0;padding-bottom:60%;\"><span style=\"color:#565656\">Make this Notebook Trusted to load map: File -> Trust Notebook</span><iframe srcdoc=\"&lt;!DOCTYPE html&gt;\n&lt;html&gt;\n&lt;head&gt;\n    \n    &lt;meta http-equiv=&quot;content-type&quot; content=&quot;text/html; charset=UTF-8&quot; /&gt;\n    \n        &lt;script&gt;\n            L_NO_TOUCH = false;\n            L_DISABLE_3D = false;\n        &lt;/script&gt;\n    \n    &lt;style&gt;html, body {width: 100%;height: 100%;margin: 0;padding: 0;}&lt;/style&gt;\n    &lt;style&gt;#map {position:absolute;top:0;bottom:0;right:0;left:0;}&lt;/style&gt;\n    &lt;script src=&quot;https://cdn.jsdelivr.net/npm/leaflet@1.9.3/dist/leaflet.js&quot;&gt;&lt;/script&gt;\n    &lt;script src=&quot;https://code.jquery.com/jquery-3.7.1.min.js&quot;&gt;&lt;/script&gt;\n    &lt;script src=&quot;https://cdn.jsdelivr.net/npm/bootstrap@5.2.2/dist/js/bootstrap.bundle.min.js&quot;&gt;&lt;/script&gt;\n    &lt;script src=&quot;https://cdnjs.cloudflare.com/ajax/libs/Leaflet.awesome-markers/2.0.2/leaflet.awesome-markers.js&quot;&gt;&lt;/script&gt;\n    &lt;link rel=&quot;stylesheet&quot; href=&quot;https://cdn.jsdelivr.net/npm/leaflet@1.9.3/dist/leaflet.css&quot;/&gt;\n    &lt;link rel=&quot;stylesheet&quot; href=&quot;https://cdn.jsdelivr.net/npm/bootstrap@5.2.2/dist/css/bootstrap.min.css&quot;/&gt;\n    &lt;link rel=&quot;stylesheet&quot; href=&quot;https://netdna.bootstrapcdn.com/bootstrap/3.0.0/css/bootstrap-glyphicons.css&quot;/&gt;\n    &lt;link rel=&quot;stylesheet&quot; href=&quot;https://cdn.jsdelivr.net/npm/@fortawesome/fontawesome-free@6.2.0/css/all.min.css&quot;/&gt;\n    &lt;link rel=&quot;stylesheet&quot; href=&quot;https://cdnjs.cloudflare.com/ajax/libs/Leaflet.awesome-markers/2.0.2/leaflet.awesome-markers.css&quot;/&gt;\n    &lt;link rel=&quot;stylesheet&quot; href=&quot;https://cdn.jsdelivr.net/gh/python-visualization/folium/folium/templates/leaflet.awesome.rotate.min.css&quot;/&gt;\n    \n            &lt;meta name=&quot;viewport&quot; content=&quot;width=device-width,\n                initial-scale=1.0, maximum-scale=1.0, user-scalable=no&quot; /&gt;\n            &lt;style&gt;\n                #map_0fd965b045f642f248da0b39aa331039 {\n                    position: relative;\n                    width: 100.0%;\n                    height: 100.0%;\n                    left: 0.0%;\n                    top: 0.0%;\n                }\n                .leaflet-container { font-size: 1rem; }\n            &lt;/style&gt;\n        \n&lt;/head&gt;\n&lt;body&gt;\n    \n    \n            &lt;div class=&quot;folium-map&quot; id=&quot;map_0fd965b045f642f248da0b39aa331039&quot; &gt;&lt;/div&gt;\n        \n&lt;/body&gt;\n&lt;script&gt;\n    \n    \n            var map_0fd965b045f642f248da0b39aa331039 = L.map(\n                &quot;map_0fd965b045f642f248da0b39aa331039&quot;,\n                {\n                    center: [29.559684888503615, -95.0830971930759],\n                    crs: L.CRS.EPSG3857,\n                    zoom: 5,\n                    zoomControl: true,\n                    preferCanvas: false,\n                }\n            );\n\n            \n\n        \n    \n            var tile_layer_512f25da2a97a39b59d5faadb6485654 = L.tileLayer(\n                &quot;https://tile.openstreetmap.org/{z}/{x}/{y}.png&quot;,\n                {&quot;attribution&quot;: &quot;\\u0026copy; \\u003ca href=\\&quot;https://www.openstreetmap.org/copyright\\&quot;\\u003eOpenStreetMap\\u003c/a\\u003e contributors&quot;, &quot;detectRetina&quot;: false, &quot;maxNativeZoom&quot;: 19, &quot;maxZoom&quot;: 19, &quot;minZoom&quot;: 0, &quot;noWrap&quot;: false, &quot;opacity&quot;: 1, &quot;subdomains&quot;: &quot;abc&quot;, &quot;tms&quot;: false}\n            );\n        \n    \n            tile_layer_512f25da2a97a39b59d5faadb6485654.addTo(map_0fd965b045f642f248da0b39aa331039);\n        \n    \n            var marker_021e6c64ca61ff492b9b17802bb06d51 = L.marker(\n                [28.56230197, -80.57735648],\n                {}\n            ).addTo(map_0fd965b045f642f248da0b39aa331039);\n        \n    \n            var div_icon_5b6ee088ac7d725c700bb423590c1a1d = L.divIcon({&quot;className&quot;: &quot;empty&quot;, &quot;html&quot;: &quot;\\u003cdiv style=\\&quot;font-size: 12; color:#d35400;\\&quot;\\u003e\\u003cb\\u003eCCAFS LC-40\\u003c/b\\u003e\\u003c/div\\u003e&quot;, &quot;iconAnchor&quot;: [0, 0], &quot;iconSize&quot;: [20, 20]});\n            marker_021e6c64ca61ff492b9b17802bb06d51.setIcon(div_icon_5b6ee088ac7d725c700bb423590c1a1d);\n        \n    \n        var popup_dd9fd20d2513f4306ef608b0223acce7 = L.popup({&quot;maxWidth&quot;: &quot;100%&quot;});\n\n        \n            \n                var html_c05edb45767f3338641a5d1ecb95e689 = $(`&lt;div id=&quot;html_c05edb45767f3338641a5d1ecb95e689&quot; style=&quot;width: 100.0%; height: 100.0%;&quot;&gt;CCAFS LC-40&lt;/div&gt;`)[0];\n                popup_dd9fd20d2513f4306ef608b0223acce7.setContent(html_c05edb45767f3338641a5d1ecb95e689);\n            \n        \n\n        marker_021e6c64ca61ff492b9b17802bb06d51.bindPopup(popup_dd9fd20d2513f4306ef608b0223acce7)\n        ;\n\n        \n    \n    \n            var marker_46634cb39b2dbe713d74d0e713dea8d5 = L.marker(\n                [28.56319718, -80.57682003],\n                {}\n            ).addTo(map_0fd965b045f642f248da0b39aa331039);\n        \n    \n            var div_icon_2685c7aa02ae2ed5343dbe1e43cc6911 = L.divIcon({&quot;className&quot;: &quot;empty&quot;, &quot;html&quot;: &quot;\\u003cdiv style=\\&quot;font-size: 12; color:#d35400;\\&quot;\\u003e\\u003cb\\u003eCCAFS SLC-40\\u003c/b\\u003e\\u003c/div\\u003e&quot;, &quot;iconAnchor&quot;: [0, 0], &quot;iconSize&quot;: [20, 20]});\n            marker_46634cb39b2dbe713d74d0e713dea8d5.setIcon(div_icon_2685c7aa02ae2ed5343dbe1e43cc6911);\n        \n    \n        var popup_a63406e65c67466e73187d6976a0188d = L.popup({&quot;maxWidth&quot;: &quot;100%&quot;});\n\n        \n            \n                var html_f8a65227053718421a230c825f629bd5 = $(`&lt;div id=&quot;html_f8a65227053718421a230c825f629bd5&quot; style=&quot;width: 100.0%; height: 100.0%;&quot;&gt;CCAFS SLC-40&lt;/div&gt;`)[0];\n                popup_a63406e65c67466e73187d6976a0188d.setContent(html_f8a65227053718421a230c825f629bd5);\n            \n        \n\n        marker_46634cb39b2dbe713d74d0e713dea8d5.bindPopup(popup_a63406e65c67466e73187d6976a0188d)\n        ;\n\n        \n    \n    \n            var marker_f556ac613225cb93b5a79758d1dea6f8 = L.marker(\n                [28.57325457, -80.64689529],\n                {}\n            ).addTo(map_0fd965b045f642f248da0b39aa331039);\n        \n    \n            var div_icon_4df9a37eb129d8efca8c867b2844feca = L.divIcon({&quot;className&quot;: &quot;empty&quot;, &quot;html&quot;: &quot;\\u003cdiv style=\\&quot;font-size: 12; color:#d35400;\\&quot;\\u003e\\u003cb\\u003eKSC LC-39A\\u003c/b\\u003e\\u003c/div\\u003e&quot;, &quot;iconAnchor&quot;: [0, 0], &quot;iconSize&quot;: [20, 20]});\n            marker_f556ac613225cb93b5a79758d1dea6f8.setIcon(div_icon_4df9a37eb129d8efca8c867b2844feca);\n        \n    \n        var popup_f3cf2ee6b3ba9e7a0b0c3de779581cec = L.popup({&quot;maxWidth&quot;: &quot;100%&quot;});\n\n        \n            \n                var html_1bc8a959702c67357649ee29bb5a9f35 = $(`&lt;div id=&quot;html_1bc8a959702c67357649ee29bb5a9f35&quot; style=&quot;width: 100.0%; height: 100.0%;&quot;&gt;KSC LC-39A&lt;/div&gt;`)[0];\n                popup_f3cf2ee6b3ba9e7a0b0c3de779581cec.setContent(html_1bc8a959702c67357649ee29bb5a9f35);\n            \n        \n\n        marker_f556ac613225cb93b5a79758d1dea6f8.bindPopup(popup_f3cf2ee6b3ba9e7a0b0c3de779581cec)\n        ;\n\n        \n    \n    \n            var marker_98017a1113e7dfb648cd964562302820 = L.marker(\n                [34.63283416, -120.6107455],\n                {}\n            ).addTo(map_0fd965b045f642f248da0b39aa331039);\n        \n    \n            var div_icon_0756900644c638cbd3260f01031b8795 = L.divIcon({&quot;className&quot;: &quot;empty&quot;, &quot;html&quot;: &quot;\\u003cdiv style=\\&quot;font-size: 12; color:#d35400;\\&quot;\\u003e\\u003cb\\u003eVAFB SLC-4E\\u003c/b\\u003e\\u003c/div\\u003e&quot;, &quot;iconAnchor&quot;: [0, 0], &quot;iconSize&quot;: [20, 20]});\n            marker_98017a1113e7dfb648cd964562302820.setIcon(div_icon_0756900644c638cbd3260f01031b8795);\n        \n    \n        var popup_d88f814828a9f0b8a198205a4cbdba96 = L.popup({&quot;maxWidth&quot;: &quot;100%&quot;});\n\n        \n            \n                var html_8c0cb9139da7eb37912d9e45f915184f = $(`&lt;div id=&quot;html_8c0cb9139da7eb37912d9e45f915184f&quot; style=&quot;width: 100.0%; height: 100.0%;&quot;&gt;VAFB SLC-4E&lt;/div&gt;`)[0];\n                popup_d88f814828a9f0b8a198205a4cbdba96.setContent(html_8c0cb9139da7eb37912d9e45f915184f);\n            \n        \n\n        marker_98017a1113e7dfb648cd964562302820.bindPopup(popup_d88f814828a9f0b8a198205a4cbdba96)\n        ;\n\n        \n    \n&lt;/script&gt;\n&lt;/html&gt;\" style=\"position:absolute;width:100%;height:100%;left:0;top:0;border:none !important;\" allowfullscreen webkitallowfullscreen mozallowfullscreen></iframe></div></div>"
          },
          "metadata": {}
        }
      ],
      "execution_count": 16
    },
    {
      "cell_type": "markdown",
      "source": "The generated map with marked launch sites should look similar to the following:\n",
      "metadata": {}
    },
    {
      "cell_type": "markdown",
      "source": "<center>\n    <img src=\"https://cf-courses-data.s3.us.cloud-object-storage.appdomain.cloud/IBM-DS0321EN-SkillsNetwork/labs/module_3/images/launch_site_markers.png\">\n</center>\n",
      "metadata": {}
    },
    {
      "cell_type": "markdown",
      "source": "Now, you can explore the map by zoom-in/out the marked areas\n, and try to answer the following questions:\n\n*   Are all launch sites in proximity to the Equator line?\n*   Are all launch sites in very close proximity to the coast?\n\nAlso please try to explain your findings.\n",
      "metadata": {}
    },
    {
      "cell_type": "code",
      "source": "# Task 2: Mark the success/failed launches for each site on the map\n",
      "metadata": {
        "trusted": true
      },
      "outputs": [],
      "execution_count": 17
    },
    {
      "cell_type": "markdown",
      "source": "Next, let's try to enhance the map by adding the launch outcomes for each site, and see which sites have high success rates.\nRecall that data frame spacex_df has detailed launch records, and the `class` column indicates if this launch was successful or not\n",
      "metadata": {}
    },
    {
      "cell_type": "code",
      "source": "spacex_df.tail(10)",
      "metadata": {
        "trusted": true
      },
      "outputs": [
        {
          "execution_count": 18,
          "output_type": "execute_result",
          "data": {
            "text/plain": "     Launch Site        Lat       Long  class\n46    KSC LC-39A  28.573255 -80.646895      1\n47    KSC LC-39A  28.573255 -80.646895      1\n48    KSC LC-39A  28.573255 -80.646895      1\n49  CCAFS SLC-40  28.563197 -80.576820      1\n50  CCAFS SLC-40  28.563197 -80.576820      1\n51  CCAFS SLC-40  28.563197 -80.576820      0\n52  CCAFS SLC-40  28.563197 -80.576820      0\n53  CCAFS SLC-40  28.563197 -80.576820      0\n54  CCAFS SLC-40  28.563197 -80.576820      1\n55  CCAFS SLC-40  28.563197 -80.576820      0",
            "text/html": "<div>\n<style scoped>\n    .dataframe tbody tr th:only-of-type {\n        vertical-align: middle;\n    }\n\n    .dataframe tbody tr th {\n        vertical-align: top;\n    }\n\n    .dataframe thead th {\n        text-align: right;\n    }\n</style>\n<table border=\"1\" class=\"dataframe\">\n  <thead>\n    <tr style=\"text-align: right;\">\n      <th></th>\n      <th>Launch Site</th>\n      <th>Lat</th>\n      <th>Long</th>\n      <th>class</th>\n    </tr>\n  </thead>\n  <tbody>\n    <tr>\n      <th>46</th>\n      <td>KSC LC-39A</td>\n      <td>28.573255</td>\n      <td>-80.646895</td>\n      <td>1</td>\n    </tr>\n    <tr>\n      <th>47</th>\n      <td>KSC LC-39A</td>\n      <td>28.573255</td>\n      <td>-80.646895</td>\n      <td>1</td>\n    </tr>\n    <tr>\n      <th>48</th>\n      <td>KSC LC-39A</td>\n      <td>28.573255</td>\n      <td>-80.646895</td>\n      <td>1</td>\n    </tr>\n    <tr>\n      <th>49</th>\n      <td>CCAFS SLC-40</td>\n      <td>28.563197</td>\n      <td>-80.576820</td>\n      <td>1</td>\n    </tr>\n    <tr>\n      <th>50</th>\n      <td>CCAFS SLC-40</td>\n      <td>28.563197</td>\n      <td>-80.576820</td>\n      <td>1</td>\n    </tr>\n    <tr>\n      <th>51</th>\n      <td>CCAFS SLC-40</td>\n      <td>28.563197</td>\n      <td>-80.576820</td>\n      <td>0</td>\n    </tr>\n    <tr>\n      <th>52</th>\n      <td>CCAFS SLC-40</td>\n      <td>28.563197</td>\n      <td>-80.576820</td>\n      <td>0</td>\n    </tr>\n    <tr>\n      <th>53</th>\n      <td>CCAFS SLC-40</td>\n      <td>28.563197</td>\n      <td>-80.576820</td>\n      <td>0</td>\n    </tr>\n    <tr>\n      <th>54</th>\n      <td>CCAFS SLC-40</td>\n      <td>28.563197</td>\n      <td>-80.576820</td>\n      <td>1</td>\n    </tr>\n    <tr>\n      <th>55</th>\n      <td>CCAFS SLC-40</td>\n      <td>28.563197</td>\n      <td>-80.576820</td>\n      <td>0</td>\n    </tr>\n  </tbody>\n</table>\n</div>"
          },
          "metadata": {}
        }
      ],
      "execution_count": 18
    },
    {
      "cell_type": "markdown",
      "source": "Next, let's create markers for all launch records.\nIf a launch was successful `(class=1)`, then we use a green marker and if a launch was failed, we use a red marker `(class=0)`\n",
      "metadata": {}
    },
    {
      "cell_type": "markdown",
      "source": "Note that a launch only happens in one of the four launch sites, which means many launch records will have the exact same coordinate. Marker clusters can be a good way to simplify a map containing many markers having the same coordinate.\n",
      "metadata": {}
    },
    {
      "cell_type": "markdown",
      "source": "Let's first create a `MarkerCluster` object\n",
      "metadata": {}
    },
    {
      "cell_type": "code",
      "source": "marker_cluster = MarkerCluster()\n",
      "metadata": {
        "trusted": true
      },
      "outputs": [],
      "execution_count": 19
    },
    {
      "cell_type": "markdown",
      "source": "*TODO:* Create a new column in `spacex_df` dataframe called `marker_color` to store the marker colors based on the `class` value\n",
      "metadata": {}
    },
    {
      "cell_type": "code",
      "source": "\n# Apply a function to check the value of `class` column\n# If class=1, marker_color value will be green\n# If class=0, marker_color value will be red\ndef outcome_marker_color(launch_outcome):\n    if launch_outcome ==1:\n        return 'green'\n    else:\n        return 'red'\n\nspacex_df['marker_color']=spacex_df['class'].apply(outcome_marker_color)\n\nprint (spacex_df)",
      "metadata": {
        "trusted": true
      },
      "outputs": [
        {
          "name": "stdout",
          "text": "     Launch Site        Lat        Long  class marker_color\n0    CCAFS LC-40  28.562302  -80.577356      0          red\n1    CCAFS LC-40  28.562302  -80.577356      0          red\n2    CCAFS LC-40  28.562302  -80.577356      0          red\n3    CCAFS LC-40  28.562302  -80.577356      0          red\n4    CCAFS LC-40  28.562302  -80.577356      0          red\n5    CCAFS LC-40  28.562302  -80.577356      0          red\n6    CCAFS LC-40  28.562302  -80.577356      0          red\n7    CCAFS LC-40  28.562302  -80.577356      0          red\n8    CCAFS LC-40  28.562302  -80.577356      0          red\n9    CCAFS LC-40  28.562302  -80.577356      0          red\n10   CCAFS LC-40  28.562302  -80.577356      0          red\n11   CCAFS LC-40  28.562302  -80.577356      0          red\n12   CCAFS LC-40  28.562302  -80.577356      0          red\n13   CCAFS LC-40  28.562302  -80.577356      0          red\n14   CCAFS LC-40  28.562302  -80.577356      0          red\n15   CCAFS LC-40  28.562302  -80.577356      0          red\n16   CCAFS LC-40  28.562302  -80.577356      0          red\n17   CCAFS LC-40  28.562302  -80.577356      1        green\n18   CCAFS LC-40  28.562302  -80.577356      1        green\n19   CCAFS LC-40  28.562302  -80.577356      0          red\n20   CCAFS LC-40  28.562302  -80.577356      1        green\n21   CCAFS LC-40  28.562302  -80.577356      1        green\n22   CCAFS LC-40  28.562302  -80.577356      1        green\n23   CCAFS LC-40  28.562302  -80.577356      0          red\n24   CCAFS LC-40  28.562302  -80.577356      1        green\n25   CCAFS LC-40  28.562302  -80.577356      1        green\n26   VAFB SLC-4E  34.632834 -120.610745      0          red\n27   VAFB SLC-4E  34.632834 -120.610745      0          red\n28   VAFB SLC-4E  34.632834 -120.610745      1        green\n29   VAFB SLC-4E  34.632834 -120.610745      1        green\n30   VAFB SLC-4E  34.632834 -120.610745      1        green\n31   VAFB SLC-4E  34.632834 -120.610745      1        green\n32   VAFB SLC-4E  34.632834 -120.610745      0          red\n33   VAFB SLC-4E  34.632834 -120.610745      0          red\n34   VAFB SLC-4E  34.632834 -120.610745      0          red\n35   VAFB SLC-4E  34.632834 -120.610745      0          red\n36    KSC LC-39A  28.573255  -80.646895      1        green\n37    KSC LC-39A  28.573255  -80.646895      0          red\n38    KSC LC-39A  28.573255  -80.646895      1        green\n39    KSC LC-39A  28.573255  -80.646895      1        green\n40    KSC LC-39A  28.573255  -80.646895      0          red\n41    KSC LC-39A  28.573255  -80.646895      1        green\n42    KSC LC-39A  28.573255  -80.646895      1        green\n43    KSC LC-39A  28.573255  -80.646895      0          red\n44    KSC LC-39A  28.573255  -80.646895      1        green\n45    KSC LC-39A  28.573255  -80.646895      1        green\n46    KSC LC-39A  28.573255  -80.646895      1        green\n47    KSC LC-39A  28.573255  -80.646895      1        green\n48    KSC LC-39A  28.573255  -80.646895      1        green\n49  CCAFS SLC-40  28.563197  -80.576820      1        green\n50  CCAFS SLC-40  28.563197  -80.576820      1        green\n51  CCAFS SLC-40  28.563197  -80.576820      0          red\n52  CCAFS SLC-40  28.563197  -80.576820      0          red\n53  CCAFS SLC-40  28.563197  -80.576820      0          red\n54  CCAFS SLC-40  28.563197  -80.576820      1        green\n55  CCAFS SLC-40  28.563197  -80.576820      0          red\n",
          "output_type": "stream"
        }
      ],
      "execution_count": 21
    },
    {
      "cell_type": "markdown",
      "source": "*TODO:* For each launch result in `spacex_df` data frame, add a `folium.Marker` to `marker_cluster`\n",
      "metadata": {}
    },
    {
      "cell_type": "code",
      "source": "# Add marker_cluster to current site_map\nsite_map.add_child(marker_cluster)\n\n# for each row in spacex_df data frame\n# create a Marker object with its coordinate\n# and customize the Marker's icon property to indicate if this launch was successed or failed, \n# e.g., icon=folium.Icon(color='white', icon_color=row['marker_color']\nfor index, record in spacex_df.iterrows():\n    coordinate = [record['Lat'], record['Long']]\n    # TODO: Create and add a Marker cluster to the site map\n    # marker = folium.Marker(...)\n    marker = folium.Marker(\n        location=coordinate,\n        icon=folium.Icon(color='white', icon_color=record['marker_color'])\n    )\n    marker_cluster.add_child(marker)\n\nsite_map",
      "metadata": {
        "trusted": true
      },
      "outputs": [
        {
          "execution_count": 22,
          "output_type": "execute_result",
          "data": {
            "text/plain": "<folium.folium.Map at 0x4efe840>",
            "text/html": "<div style=\"width:100%;\"><div style=\"position:relative;width:100%;height:0;padding-bottom:60%;\"><span style=\"color:#565656\">Make this Notebook Trusted to load map: File -> Trust Notebook</span><iframe srcdoc=\"&lt;!DOCTYPE html&gt;\n&lt;html&gt;\n&lt;head&gt;\n    \n    &lt;meta http-equiv=&quot;content-type&quot; content=&quot;text/html; charset=UTF-8&quot; /&gt;\n    \n        &lt;script&gt;\n            L_NO_TOUCH = false;\n            L_DISABLE_3D = false;\n        &lt;/script&gt;\n    \n    &lt;style&gt;html, body {width: 100%;height: 100%;margin: 0;padding: 0;}&lt;/style&gt;\n    &lt;style&gt;#map {position:absolute;top:0;bottom:0;right:0;left:0;}&lt;/style&gt;\n    &lt;script src=&quot;https://cdn.jsdelivr.net/npm/leaflet@1.9.3/dist/leaflet.js&quot;&gt;&lt;/script&gt;\n    &lt;script src=&quot;https://code.jquery.com/jquery-3.7.1.min.js&quot;&gt;&lt;/script&gt;\n    &lt;script src=&quot;https://cdn.jsdelivr.net/npm/bootstrap@5.2.2/dist/js/bootstrap.bundle.min.js&quot;&gt;&lt;/script&gt;\n    &lt;script src=&quot;https://cdnjs.cloudflare.com/ajax/libs/Leaflet.awesome-markers/2.0.2/leaflet.awesome-markers.js&quot;&gt;&lt;/script&gt;\n    &lt;link rel=&quot;stylesheet&quot; href=&quot;https://cdn.jsdelivr.net/npm/leaflet@1.9.3/dist/leaflet.css&quot;/&gt;\n    &lt;link rel=&quot;stylesheet&quot; href=&quot;https://cdn.jsdelivr.net/npm/bootstrap@5.2.2/dist/css/bootstrap.min.css&quot;/&gt;\n    &lt;link rel=&quot;stylesheet&quot; href=&quot;https://netdna.bootstrapcdn.com/bootstrap/3.0.0/css/bootstrap-glyphicons.css&quot;/&gt;\n    &lt;link rel=&quot;stylesheet&quot; href=&quot;https://cdn.jsdelivr.net/npm/@fortawesome/fontawesome-free@6.2.0/css/all.min.css&quot;/&gt;\n    &lt;link rel=&quot;stylesheet&quot; href=&quot;https://cdnjs.cloudflare.com/ajax/libs/Leaflet.awesome-markers/2.0.2/leaflet.awesome-markers.css&quot;/&gt;\n    &lt;link rel=&quot;stylesheet&quot; href=&quot;https://cdn.jsdelivr.net/gh/python-visualization/folium/folium/templates/leaflet.awesome.rotate.min.css&quot;/&gt;\n    \n            &lt;meta name=&quot;viewport&quot; content=&quot;width=device-width,\n                initial-scale=1.0, maximum-scale=1.0, user-scalable=no&quot; /&gt;\n            &lt;style&gt;\n                #map_0fd965b045f642f248da0b39aa331039 {\n                    position: relative;\n                    width: 100.0%;\n                    height: 100.0%;\n                    left: 0.0%;\n                    top: 0.0%;\n                }\n                .leaflet-container { font-size: 1rem; }\n            &lt;/style&gt;\n        \n    &lt;script src=&quot;https://cdnjs.cloudflare.com/ajax/libs/leaflet.markercluster/1.1.0/leaflet.markercluster.js&quot;&gt;&lt;/script&gt;\n    &lt;link rel=&quot;stylesheet&quot; href=&quot;https://cdnjs.cloudflare.com/ajax/libs/leaflet.markercluster/1.1.0/MarkerCluster.css&quot;/&gt;\n    &lt;link rel=&quot;stylesheet&quot; href=&quot;https://cdnjs.cloudflare.com/ajax/libs/leaflet.markercluster/1.1.0/MarkerCluster.Default.css&quot;/&gt;\n&lt;/head&gt;\n&lt;body&gt;\n    \n    \n            &lt;div class=&quot;folium-map&quot; id=&quot;map_0fd965b045f642f248da0b39aa331039&quot; &gt;&lt;/div&gt;\n        \n&lt;/body&gt;\n&lt;script&gt;\n    \n    \n            var map_0fd965b045f642f248da0b39aa331039 = L.map(\n                &quot;map_0fd965b045f642f248da0b39aa331039&quot;,\n                {\n                    center: [29.559684888503615, -95.0830971930759],\n                    crs: L.CRS.EPSG3857,\n                    zoom: 5,\n                    zoomControl: true,\n                    preferCanvas: false,\n                }\n            );\n\n            \n\n        \n    \n            var tile_layer_512f25da2a97a39b59d5faadb6485654 = L.tileLayer(\n                &quot;https://tile.openstreetmap.org/{z}/{x}/{y}.png&quot;,\n                {&quot;attribution&quot;: &quot;\\u0026copy; \\u003ca href=\\&quot;https://www.openstreetmap.org/copyright\\&quot;\\u003eOpenStreetMap\\u003c/a\\u003e contributors&quot;, &quot;detectRetina&quot;: false, &quot;maxNativeZoom&quot;: 19, &quot;maxZoom&quot;: 19, &quot;minZoom&quot;: 0, &quot;noWrap&quot;: false, &quot;opacity&quot;: 1, &quot;subdomains&quot;: &quot;abc&quot;, &quot;tms&quot;: false}\n            );\n        \n    \n            tile_layer_512f25da2a97a39b59d5faadb6485654.addTo(map_0fd965b045f642f248da0b39aa331039);\n        \n    \n            var marker_021e6c64ca61ff492b9b17802bb06d51 = L.marker(\n                [28.56230197, -80.57735648],\n                {}\n            ).addTo(map_0fd965b045f642f248da0b39aa331039);\n        \n    \n            var div_icon_5b6ee088ac7d725c700bb423590c1a1d = L.divIcon({&quot;className&quot;: &quot;empty&quot;, &quot;html&quot;: &quot;\\u003cdiv style=\\&quot;font-size: 12; color:#d35400;\\&quot;\\u003e\\u003cb\\u003eCCAFS LC-40\\u003c/b\\u003e\\u003c/div\\u003e&quot;, &quot;iconAnchor&quot;: [0, 0], &quot;iconSize&quot;: [20, 20]});\n            marker_021e6c64ca61ff492b9b17802bb06d51.setIcon(div_icon_5b6ee088ac7d725c700bb423590c1a1d);\n        \n    \n        var popup_dd9fd20d2513f4306ef608b0223acce7 = L.popup({&quot;maxWidth&quot;: &quot;100%&quot;});\n\n        \n            \n                var html_c05edb45767f3338641a5d1ecb95e689 = $(`&lt;div id=&quot;html_c05edb45767f3338641a5d1ecb95e689&quot; style=&quot;width: 100.0%; height: 100.0%;&quot;&gt;CCAFS LC-40&lt;/div&gt;`)[0];\n                popup_dd9fd20d2513f4306ef608b0223acce7.setContent(html_c05edb45767f3338641a5d1ecb95e689);\n            \n        \n\n        marker_021e6c64ca61ff492b9b17802bb06d51.bindPopup(popup_dd9fd20d2513f4306ef608b0223acce7)\n        ;\n\n        \n    \n    \n            var marker_46634cb39b2dbe713d74d0e713dea8d5 = L.marker(\n                [28.56319718, -80.57682003],\n                {}\n            ).addTo(map_0fd965b045f642f248da0b39aa331039);\n        \n    \n            var div_icon_2685c7aa02ae2ed5343dbe1e43cc6911 = L.divIcon({&quot;className&quot;: &quot;empty&quot;, &quot;html&quot;: &quot;\\u003cdiv style=\\&quot;font-size: 12; color:#d35400;\\&quot;\\u003e\\u003cb\\u003eCCAFS SLC-40\\u003c/b\\u003e\\u003c/div\\u003e&quot;, &quot;iconAnchor&quot;: [0, 0], &quot;iconSize&quot;: [20, 20]});\n            marker_46634cb39b2dbe713d74d0e713dea8d5.setIcon(div_icon_2685c7aa02ae2ed5343dbe1e43cc6911);\n        \n    \n        var popup_a63406e65c67466e73187d6976a0188d = L.popup({&quot;maxWidth&quot;: &quot;100%&quot;});\n\n        \n            \n                var html_f8a65227053718421a230c825f629bd5 = $(`&lt;div id=&quot;html_f8a65227053718421a230c825f629bd5&quot; style=&quot;width: 100.0%; height: 100.0%;&quot;&gt;CCAFS SLC-40&lt;/div&gt;`)[0];\n                popup_a63406e65c67466e73187d6976a0188d.setContent(html_f8a65227053718421a230c825f629bd5);\n            \n        \n\n        marker_46634cb39b2dbe713d74d0e713dea8d5.bindPopup(popup_a63406e65c67466e73187d6976a0188d)\n        ;\n\n        \n    \n    \n            var marker_f556ac613225cb93b5a79758d1dea6f8 = L.marker(\n                [28.57325457, -80.64689529],\n                {}\n            ).addTo(map_0fd965b045f642f248da0b39aa331039);\n        \n    \n            var div_icon_4df9a37eb129d8efca8c867b2844feca = L.divIcon({&quot;className&quot;: &quot;empty&quot;, &quot;html&quot;: &quot;\\u003cdiv style=\\&quot;font-size: 12; color:#d35400;\\&quot;\\u003e\\u003cb\\u003eKSC LC-39A\\u003c/b\\u003e\\u003c/div\\u003e&quot;, &quot;iconAnchor&quot;: [0, 0], &quot;iconSize&quot;: [20, 20]});\n            marker_f556ac613225cb93b5a79758d1dea6f8.setIcon(div_icon_4df9a37eb129d8efca8c867b2844feca);\n        \n    \n        var popup_f3cf2ee6b3ba9e7a0b0c3de779581cec = L.popup({&quot;maxWidth&quot;: &quot;100%&quot;});\n\n        \n            \n                var html_1bc8a959702c67357649ee29bb5a9f35 = $(`&lt;div id=&quot;html_1bc8a959702c67357649ee29bb5a9f35&quot; style=&quot;width: 100.0%; height: 100.0%;&quot;&gt;KSC LC-39A&lt;/div&gt;`)[0];\n                popup_f3cf2ee6b3ba9e7a0b0c3de779581cec.setContent(html_1bc8a959702c67357649ee29bb5a9f35);\n            \n        \n\n        marker_f556ac613225cb93b5a79758d1dea6f8.bindPopup(popup_f3cf2ee6b3ba9e7a0b0c3de779581cec)\n        ;\n\n        \n    \n    \n            var marker_98017a1113e7dfb648cd964562302820 = L.marker(\n                [34.63283416, -120.6107455],\n                {}\n            ).addTo(map_0fd965b045f642f248da0b39aa331039);\n        \n    \n            var div_icon_0756900644c638cbd3260f01031b8795 = L.divIcon({&quot;className&quot;: &quot;empty&quot;, &quot;html&quot;: &quot;\\u003cdiv style=\\&quot;font-size: 12; color:#d35400;\\&quot;\\u003e\\u003cb\\u003eVAFB SLC-4E\\u003c/b\\u003e\\u003c/div\\u003e&quot;, &quot;iconAnchor&quot;: [0, 0], &quot;iconSize&quot;: [20, 20]});\n            marker_98017a1113e7dfb648cd964562302820.setIcon(div_icon_0756900644c638cbd3260f01031b8795);\n        \n    \n        var popup_d88f814828a9f0b8a198205a4cbdba96 = L.popup({&quot;maxWidth&quot;: &quot;100%&quot;});\n\n        \n            \n                var html_8c0cb9139da7eb37912d9e45f915184f = $(`&lt;div id=&quot;html_8c0cb9139da7eb37912d9e45f915184f&quot; style=&quot;width: 100.0%; height: 100.0%;&quot;&gt;VAFB SLC-4E&lt;/div&gt;`)[0];\n                popup_d88f814828a9f0b8a198205a4cbdba96.setContent(html_8c0cb9139da7eb37912d9e45f915184f);\n            \n        \n\n        marker_98017a1113e7dfb648cd964562302820.bindPopup(popup_d88f814828a9f0b8a198205a4cbdba96)\n        ;\n\n        \n    \n    \n            tile_layer_512f25da2a97a39b59d5faadb6485654.addTo(map_0fd965b045f642f248da0b39aa331039);\n        \n    \n            var marker_cluster_32f3608a59b09259f6a6ce1db42dbea7 = L.markerClusterGroup(\n                {}\n            );\n        \n    \n            var marker_d8c1185ea55b4fe825ff0c505d89efcc = L.marker(\n                [28.56230197, -80.57735648],\n                {}\n            ).addTo(marker_cluster_32f3608a59b09259f6a6ce1db42dbea7);\n        \n    \n            var icon_c5f6befbef6883939ee7d4b9fd5eaa7e = L.AwesomeMarkers.icon(\n                {&quot;extraClasses&quot;: &quot;fa-rotate-0&quot;, &quot;icon&quot;: &quot;info-sign&quot;, &quot;iconColor&quot;: &quot;red&quot;, &quot;markerColor&quot;: &quot;white&quot;, &quot;prefix&quot;: &quot;glyphicon&quot;}\n            );\n            marker_d8c1185ea55b4fe825ff0c505d89efcc.setIcon(icon_c5f6befbef6883939ee7d4b9fd5eaa7e);\n        \n    \n            var marker_cdeff517edbc0be50cf8897593ff2e91 = L.marker(\n                [28.56230197, -80.57735648],\n                {}\n            ).addTo(marker_cluster_32f3608a59b09259f6a6ce1db42dbea7);\n        \n    \n            var icon_76c8091a4340c01d382b6eae68aaabe2 = L.AwesomeMarkers.icon(\n                {&quot;extraClasses&quot;: &quot;fa-rotate-0&quot;, &quot;icon&quot;: &quot;info-sign&quot;, &quot;iconColor&quot;: &quot;red&quot;, &quot;markerColor&quot;: &quot;white&quot;, &quot;prefix&quot;: &quot;glyphicon&quot;}\n            );\n            marker_cdeff517edbc0be50cf8897593ff2e91.setIcon(icon_76c8091a4340c01d382b6eae68aaabe2);\n        \n    \n            var marker_ebcb7a67c0f9a4cefec6c49d81c7c726 = L.marker(\n                [28.56230197, -80.57735648],\n                {}\n            ).addTo(marker_cluster_32f3608a59b09259f6a6ce1db42dbea7);\n        \n    \n            var icon_435dff1e19130e47af9e31fa09cd35e0 = L.AwesomeMarkers.icon(\n                {&quot;extraClasses&quot;: &quot;fa-rotate-0&quot;, &quot;icon&quot;: &quot;info-sign&quot;, &quot;iconColor&quot;: &quot;red&quot;, &quot;markerColor&quot;: &quot;white&quot;, &quot;prefix&quot;: &quot;glyphicon&quot;}\n            );\n            marker_ebcb7a67c0f9a4cefec6c49d81c7c726.setIcon(icon_435dff1e19130e47af9e31fa09cd35e0);\n        \n    \n            var marker_d3dc55dd85a8c6b9946e0048f4fa0ef7 = L.marker(\n                [28.56230197, -80.57735648],\n                {}\n            ).addTo(marker_cluster_32f3608a59b09259f6a6ce1db42dbea7);\n        \n    \n            var icon_225d8b48fdfa1d4a7e10110bb13ca1bf = L.AwesomeMarkers.icon(\n                {&quot;extraClasses&quot;: &quot;fa-rotate-0&quot;, &quot;icon&quot;: &quot;info-sign&quot;, &quot;iconColor&quot;: &quot;red&quot;, &quot;markerColor&quot;: &quot;white&quot;, &quot;prefix&quot;: &quot;glyphicon&quot;}\n            );\n            marker_d3dc55dd85a8c6b9946e0048f4fa0ef7.setIcon(icon_225d8b48fdfa1d4a7e10110bb13ca1bf);\n        \n    \n            var marker_5f38485f35d8951c17d1d847946038ce = L.marker(\n                [28.56230197, -80.57735648],\n                {}\n            ).addTo(marker_cluster_32f3608a59b09259f6a6ce1db42dbea7);\n        \n    \n            var icon_e4e1099e9eeccd849122b4ef327049df = L.AwesomeMarkers.icon(\n                {&quot;extraClasses&quot;: &quot;fa-rotate-0&quot;, &quot;icon&quot;: &quot;info-sign&quot;, &quot;iconColor&quot;: &quot;red&quot;, &quot;markerColor&quot;: &quot;white&quot;, &quot;prefix&quot;: &quot;glyphicon&quot;}\n            );\n            marker_5f38485f35d8951c17d1d847946038ce.setIcon(icon_e4e1099e9eeccd849122b4ef327049df);\n        \n    \n            var marker_08039262575abcd6ced4514e6895a844 = L.marker(\n                [28.56230197, -80.57735648],\n                {}\n            ).addTo(marker_cluster_32f3608a59b09259f6a6ce1db42dbea7);\n        \n    \n            var icon_e44fecd3ef03eb05fc097d4933ebae6a = L.AwesomeMarkers.icon(\n                {&quot;extraClasses&quot;: &quot;fa-rotate-0&quot;, &quot;icon&quot;: &quot;info-sign&quot;, &quot;iconColor&quot;: &quot;red&quot;, &quot;markerColor&quot;: &quot;white&quot;, &quot;prefix&quot;: &quot;glyphicon&quot;}\n            );\n            marker_08039262575abcd6ced4514e6895a844.setIcon(icon_e44fecd3ef03eb05fc097d4933ebae6a);\n        \n    \n            var marker_865e10588db8a6c52080b88f82216ba1 = L.marker(\n                [28.56230197, -80.57735648],\n                {}\n            ).addTo(marker_cluster_32f3608a59b09259f6a6ce1db42dbea7);\n        \n    \n            var icon_794bfcab3bab54bba34d6339deb67bdc = L.AwesomeMarkers.icon(\n                {&quot;extraClasses&quot;: &quot;fa-rotate-0&quot;, &quot;icon&quot;: &quot;info-sign&quot;, &quot;iconColor&quot;: &quot;red&quot;, &quot;markerColor&quot;: &quot;white&quot;, &quot;prefix&quot;: &quot;glyphicon&quot;}\n            );\n            marker_865e10588db8a6c52080b88f82216ba1.setIcon(icon_794bfcab3bab54bba34d6339deb67bdc);\n        \n    \n            var marker_f7b6fcefdad29d8ce84eb912b8f57520 = L.marker(\n                [28.56230197, -80.57735648],\n                {}\n            ).addTo(marker_cluster_32f3608a59b09259f6a6ce1db42dbea7);\n        \n    \n            var icon_1425c3efb25c3776ac376e95eeb0398b = L.AwesomeMarkers.icon(\n                {&quot;extraClasses&quot;: &quot;fa-rotate-0&quot;, &quot;icon&quot;: &quot;info-sign&quot;, &quot;iconColor&quot;: &quot;red&quot;, &quot;markerColor&quot;: &quot;white&quot;, &quot;prefix&quot;: &quot;glyphicon&quot;}\n            );\n            marker_f7b6fcefdad29d8ce84eb912b8f57520.setIcon(icon_1425c3efb25c3776ac376e95eeb0398b);\n        \n    \n            var marker_d463ed17b3aeaeca0a570dd2d7220e66 = L.marker(\n                [28.56230197, -80.57735648],\n                {}\n            ).addTo(marker_cluster_32f3608a59b09259f6a6ce1db42dbea7);\n        \n    \n            var icon_050dcfc54ba26e97b947986fbbedbcea = L.AwesomeMarkers.icon(\n                {&quot;extraClasses&quot;: &quot;fa-rotate-0&quot;, &quot;icon&quot;: &quot;info-sign&quot;, &quot;iconColor&quot;: &quot;red&quot;, &quot;markerColor&quot;: &quot;white&quot;, &quot;prefix&quot;: &quot;glyphicon&quot;}\n            );\n            marker_d463ed17b3aeaeca0a570dd2d7220e66.setIcon(icon_050dcfc54ba26e97b947986fbbedbcea);\n        \n    \n            var marker_9e7af743def906f95d5f91648c3ae238 = L.marker(\n                [28.56230197, -80.57735648],\n                {}\n            ).addTo(marker_cluster_32f3608a59b09259f6a6ce1db42dbea7);\n        \n    \n            var icon_d67e051c6a061a5af7f22ffe0dd47ce0 = L.AwesomeMarkers.icon(\n                {&quot;extraClasses&quot;: &quot;fa-rotate-0&quot;, &quot;icon&quot;: &quot;info-sign&quot;, &quot;iconColor&quot;: &quot;red&quot;, &quot;markerColor&quot;: &quot;white&quot;, &quot;prefix&quot;: &quot;glyphicon&quot;}\n            );\n            marker_9e7af743def906f95d5f91648c3ae238.setIcon(icon_d67e051c6a061a5af7f22ffe0dd47ce0);\n        \n    \n            var marker_8f5ef602a341a4faddd758038192f556 = L.marker(\n                [28.56230197, -80.57735648],\n                {}\n            ).addTo(marker_cluster_32f3608a59b09259f6a6ce1db42dbea7);\n        \n    \n            var icon_9f409044edc109edbbf4cda03551212d = L.AwesomeMarkers.icon(\n                {&quot;extraClasses&quot;: &quot;fa-rotate-0&quot;, &quot;icon&quot;: &quot;info-sign&quot;, &quot;iconColor&quot;: &quot;red&quot;, &quot;markerColor&quot;: &quot;white&quot;, &quot;prefix&quot;: &quot;glyphicon&quot;}\n            );\n            marker_8f5ef602a341a4faddd758038192f556.setIcon(icon_9f409044edc109edbbf4cda03551212d);\n        \n    \n            var marker_a3f017dfc4b567376e87f9b39a33f0aa = L.marker(\n                [28.56230197, -80.57735648],\n                {}\n            ).addTo(marker_cluster_32f3608a59b09259f6a6ce1db42dbea7);\n        \n    \n            var icon_ed2f4309bfcb51591028588168a45c07 = L.AwesomeMarkers.icon(\n                {&quot;extraClasses&quot;: &quot;fa-rotate-0&quot;, &quot;icon&quot;: &quot;info-sign&quot;, &quot;iconColor&quot;: &quot;red&quot;, &quot;markerColor&quot;: &quot;white&quot;, &quot;prefix&quot;: &quot;glyphicon&quot;}\n            );\n            marker_a3f017dfc4b567376e87f9b39a33f0aa.setIcon(icon_ed2f4309bfcb51591028588168a45c07);\n        \n    \n            var marker_b9f044511f6d93dcffef7d055e47d9be = L.marker(\n                [28.56230197, -80.57735648],\n                {}\n            ).addTo(marker_cluster_32f3608a59b09259f6a6ce1db42dbea7);\n        \n    \n            var icon_892c513f4314a55ad7d55dd169e5d53a = L.AwesomeMarkers.icon(\n                {&quot;extraClasses&quot;: &quot;fa-rotate-0&quot;, &quot;icon&quot;: &quot;info-sign&quot;, &quot;iconColor&quot;: &quot;red&quot;, &quot;markerColor&quot;: &quot;white&quot;, &quot;prefix&quot;: &quot;glyphicon&quot;}\n            );\n            marker_b9f044511f6d93dcffef7d055e47d9be.setIcon(icon_892c513f4314a55ad7d55dd169e5d53a);\n        \n    \n            var marker_95f6a5c4ae39745a598b97e5ae73dc2a = L.marker(\n                [28.56230197, -80.57735648],\n                {}\n            ).addTo(marker_cluster_32f3608a59b09259f6a6ce1db42dbea7);\n        \n    \n            var icon_c25d840b031dedef38306af39d651fc1 = L.AwesomeMarkers.icon(\n                {&quot;extraClasses&quot;: &quot;fa-rotate-0&quot;, &quot;icon&quot;: &quot;info-sign&quot;, &quot;iconColor&quot;: &quot;red&quot;, &quot;markerColor&quot;: &quot;white&quot;, &quot;prefix&quot;: &quot;glyphicon&quot;}\n            );\n            marker_95f6a5c4ae39745a598b97e5ae73dc2a.setIcon(icon_c25d840b031dedef38306af39d651fc1);\n        \n    \n            var marker_7b7974e086f9bae73bdd467bb78a2f29 = L.marker(\n                [28.56230197, -80.57735648],\n                {}\n            ).addTo(marker_cluster_32f3608a59b09259f6a6ce1db42dbea7);\n        \n    \n            var icon_16bca16ee0923ef640315d5c0922c9e3 = L.AwesomeMarkers.icon(\n                {&quot;extraClasses&quot;: &quot;fa-rotate-0&quot;, &quot;icon&quot;: &quot;info-sign&quot;, &quot;iconColor&quot;: &quot;red&quot;, &quot;markerColor&quot;: &quot;white&quot;, &quot;prefix&quot;: &quot;glyphicon&quot;}\n            );\n            marker_7b7974e086f9bae73bdd467bb78a2f29.setIcon(icon_16bca16ee0923ef640315d5c0922c9e3);\n        \n    \n            var marker_474a2586c6279c3fa315b7b46c50767e = L.marker(\n                [28.56230197, -80.57735648],\n                {}\n            ).addTo(marker_cluster_32f3608a59b09259f6a6ce1db42dbea7);\n        \n    \n            var icon_50f10e31e8ffdc570578833e820c5534 = L.AwesomeMarkers.icon(\n                {&quot;extraClasses&quot;: &quot;fa-rotate-0&quot;, &quot;icon&quot;: &quot;info-sign&quot;, &quot;iconColor&quot;: &quot;red&quot;, &quot;markerColor&quot;: &quot;white&quot;, &quot;prefix&quot;: &quot;glyphicon&quot;}\n            );\n            marker_474a2586c6279c3fa315b7b46c50767e.setIcon(icon_50f10e31e8ffdc570578833e820c5534);\n        \n    \n            var marker_c629a85d655bf8d47a8a3c6b95b6da22 = L.marker(\n                [28.56230197, -80.57735648],\n                {}\n            ).addTo(marker_cluster_32f3608a59b09259f6a6ce1db42dbea7);\n        \n    \n            var icon_d8a450978cc62367ba43df3367d5dfb9 = L.AwesomeMarkers.icon(\n                {&quot;extraClasses&quot;: &quot;fa-rotate-0&quot;, &quot;icon&quot;: &quot;info-sign&quot;, &quot;iconColor&quot;: &quot;red&quot;, &quot;markerColor&quot;: &quot;white&quot;, &quot;prefix&quot;: &quot;glyphicon&quot;}\n            );\n            marker_c629a85d655bf8d47a8a3c6b95b6da22.setIcon(icon_d8a450978cc62367ba43df3367d5dfb9);\n        \n    \n            var marker_a44fc8f2297fa89ec9f5d9d0e80c106b = L.marker(\n                [28.56230197, -80.57735648],\n                {}\n            ).addTo(marker_cluster_32f3608a59b09259f6a6ce1db42dbea7);\n        \n    \n            var icon_d56cd4f6360c5325048f5897fda19120 = L.AwesomeMarkers.icon(\n                {&quot;extraClasses&quot;: &quot;fa-rotate-0&quot;, &quot;icon&quot;: &quot;info-sign&quot;, &quot;iconColor&quot;: &quot;green&quot;, &quot;markerColor&quot;: &quot;white&quot;, &quot;prefix&quot;: &quot;glyphicon&quot;}\n            );\n            marker_a44fc8f2297fa89ec9f5d9d0e80c106b.setIcon(icon_d56cd4f6360c5325048f5897fda19120);\n        \n    \n            var marker_bcb391b172defef0ff343e63c1dde26d = L.marker(\n                [28.56230197, -80.57735648],\n                {}\n            ).addTo(marker_cluster_32f3608a59b09259f6a6ce1db42dbea7);\n        \n    \n            var icon_1d7fa43861c5bb4e0575cfa6e4993202 = L.AwesomeMarkers.icon(\n                {&quot;extraClasses&quot;: &quot;fa-rotate-0&quot;, &quot;icon&quot;: &quot;info-sign&quot;, &quot;iconColor&quot;: &quot;green&quot;, &quot;markerColor&quot;: &quot;white&quot;, &quot;prefix&quot;: &quot;glyphicon&quot;}\n            );\n            marker_bcb391b172defef0ff343e63c1dde26d.setIcon(icon_1d7fa43861c5bb4e0575cfa6e4993202);\n        \n    \n            var marker_91aa648a2c700aad76822d5c7a63fb1d = L.marker(\n                [28.56230197, -80.57735648],\n                {}\n            ).addTo(marker_cluster_32f3608a59b09259f6a6ce1db42dbea7);\n        \n    \n            var icon_24eedc91cee1f5a9f9aaf44420640c29 = L.AwesomeMarkers.icon(\n                {&quot;extraClasses&quot;: &quot;fa-rotate-0&quot;, &quot;icon&quot;: &quot;info-sign&quot;, &quot;iconColor&quot;: &quot;red&quot;, &quot;markerColor&quot;: &quot;white&quot;, &quot;prefix&quot;: &quot;glyphicon&quot;}\n            );\n            marker_91aa648a2c700aad76822d5c7a63fb1d.setIcon(icon_24eedc91cee1f5a9f9aaf44420640c29);\n        \n    \n            var marker_c17551b670c2a0b838b8e4bd26b51cf4 = L.marker(\n                [28.56230197, -80.57735648],\n                {}\n            ).addTo(marker_cluster_32f3608a59b09259f6a6ce1db42dbea7);\n        \n    \n            var icon_4a2e7ee0f07491362ab7a65f82246713 = L.AwesomeMarkers.icon(\n                {&quot;extraClasses&quot;: &quot;fa-rotate-0&quot;, &quot;icon&quot;: &quot;info-sign&quot;, &quot;iconColor&quot;: &quot;green&quot;, &quot;markerColor&quot;: &quot;white&quot;, &quot;prefix&quot;: &quot;glyphicon&quot;}\n            );\n            marker_c17551b670c2a0b838b8e4bd26b51cf4.setIcon(icon_4a2e7ee0f07491362ab7a65f82246713);\n        \n    \n            var marker_289d6f5f9a2c070a6f8d6ee7b9023223 = L.marker(\n                [28.56230197, -80.57735648],\n                {}\n            ).addTo(marker_cluster_32f3608a59b09259f6a6ce1db42dbea7);\n        \n    \n            var icon_4f855af870649304f441797817e7f1ab = L.AwesomeMarkers.icon(\n                {&quot;extraClasses&quot;: &quot;fa-rotate-0&quot;, &quot;icon&quot;: &quot;info-sign&quot;, &quot;iconColor&quot;: &quot;green&quot;, &quot;markerColor&quot;: &quot;white&quot;, &quot;prefix&quot;: &quot;glyphicon&quot;}\n            );\n            marker_289d6f5f9a2c070a6f8d6ee7b9023223.setIcon(icon_4f855af870649304f441797817e7f1ab);\n        \n    \n            var marker_0974563a3e91bbf98fa5db700aa1c00a = L.marker(\n                [28.56230197, -80.57735648],\n                {}\n            ).addTo(marker_cluster_32f3608a59b09259f6a6ce1db42dbea7);\n        \n    \n            var icon_b57d625ae1262aa7645aafd2e4b032a7 = L.AwesomeMarkers.icon(\n                {&quot;extraClasses&quot;: &quot;fa-rotate-0&quot;, &quot;icon&quot;: &quot;info-sign&quot;, &quot;iconColor&quot;: &quot;green&quot;, &quot;markerColor&quot;: &quot;white&quot;, &quot;prefix&quot;: &quot;glyphicon&quot;}\n            );\n            marker_0974563a3e91bbf98fa5db700aa1c00a.setIcon(icon_b57d625ae1262aa7645aafd2e4b032a7);\n        \n    \n            var marker_30f90b2689bea42957a99da72bd66d80 = L.marker(\n                [28.56230197, -80.57735648],\n                {}\n            ).addTo(marker_cluster_32f3608a59b09259f6a6ce1db42dbea7);\n        \n    \n            var icon_8d3ee6127500bbf57c1eef2226548f10 = L.AwesomeMarkers.icon(\n                {&quot;extraClasses&quot;: &quot;fa-rotate-0&quot;, &quot;icon&quot;: &quot;info-sign&quot;, &quot;iconColor&quot;: &quot;red&quot;, &quot;markerColor&quot;: &quot;white&quot;, &quot;prefix&quot;: &quot;glyphicon&quot;}\n            );\n            marker_30f90b2689bea42957a99da72bd66d80.setIcon(icon_8d3ee6127500bbf57c1eef2226548f10);\n        \n    \n            var marker_9ed3c2cc74946adf4cf690f42b32ad0c = L.marker(\n                [28.56230197, -80.57735648],\n                {}\n            ).addTo(marker_cluster_32f3608a59b09259f6a6ce1db42dbea7);\n        \n    \n            var icon_74fa940094baf7621ace028c1fe5ca74 = L.AwesomeMarkers.icon(\n                {&quot;extraClasses&quot;: &quot;fa-rotate-0&quot;, &quot;icon&quot;: &quot;info-sign&quot;, &quot;iconColor&quot;: &quot;green&quot;, &quot;markerColor&quot;: &quot;white&quot;, &quot;prefix&quot;: &quot;glyphicon&quot;}\n            );\n            marker_9ed3c2cc74946adf4cf690f42b32ad0c.setIcon(icon_74fa940094baf7621ace028c1fe5ca74);\n        \n    \n            var marker_9298d2e2dd3ac66452fd24133c57b07b = L.marker(\n                [28.56230197, -80.57735648],\n                {}\n            ).addTo(marker_cluster_32f3608a59b09259f6a6ce1db42dbea7);\n        \n    \n            var icon_ed1de1113879e1087cf79f6184944fb4 = L.AwesomeMarkers.icon(\n                {&quot;extraClasses&quot;: &quot;fa-rotate-0&quot;, &quot;icon&quot;: &quot;info-sign&quot;, &quot;iconColor&quot;: &quot;green&quot;, &quot;markerColor&quot;: &quot;white&quot;, &quot;prefix&quot;: &quot;glyphicon&quot;}\n            );\n            marker_9298d2e2dd3ac66452fd24133c57b07b.setIcon(icon_ed1de1113879e1087cf79f6184944fb4);\n        \n    \n            var marker_ef24ef1ac3e25e18a5d22a56172b16df = L.marker(\n                [34.63283416, -120.6107455],\n                {}\n            ).addTo(marker_cluster_32f3608a59b09259f6a6ce1db42dbea7);\n        \n    \n            var icon_d1716e6c8af56f62b19ae29c9d9b0f0d = L.AwesomeMarkers.icon(\n                {&quot;extraClasses&quot;: &quot;fa-rotate-0&quot;, &quot;icon&quot;: &quot;info-sign&quot;, &quot;iconColor&quot;: &quot;red&quot;, &quot;markerColor&quot;: &quot;white&quot;, &quot;prefix&quot;: &quot;glyphicon&quot;}\n            );\n            marker_ef24ef1ac3e25e18a5d22a56172b16df.setIcon(icon_d1716e6c8af56f62b19ae29c9d9b0f0d);\n        \n    \n            var marker_ff10b105f74c704ca5ecd8c264d4c439 = L.marker(\n                [34.63283416, -120.6107455],\n                {}\n            ).addTo(marker_cluster_32f3608a59b09259f6a6ce1db42dbea7);\n        \n    \n            var icon_624ee95245694b179c083bd797733672 = L.AwesomeMarkers.icon(\n                {&quot;extraClasses&quot;: &quot;fa-rotate-0&quot;, &quot;icon&quot;: &quot;info-sign&quot;, &quot;iconColor&quot;: &quot;red&quot;, &quot;markerColor&quot;: &quot;white&quot;, &quot;prefix&quot;: &quot;glyphicon&quot;}\n            );\n            marker_ff10b105f74c704ca5ecd8c264d4c439.setIcon(icon_624ee95245694b179c083bd797733672);\n        \n    \n            var marker_2a7a89cc6c8c66d8175e6ce7b2c5f4d2 = L.marker(\n                [34.63283416, -120.6107455],\n                {}\n            ).addTo(marker_cluster_32f3608a59b09259f6a6ce1db42dbea7);\n        \n    \n            var icon_ee8e82147cd9d5de4a4d99d733c025b3 = L.AwesomeMarkers.icon(\n                {&quot;extraClasses&quot;: &quot;fa-rotate-0&quot;, &quot;icon&quot;: &quot;info-sign&quot;, &quot;iconColor&quot;: &quot;green&quot;, &quot;markerColor&quot;: &quot;white&quot;, &quot;prefix&quot;: &quot;glyphicon&quot;}\n            );\n            marker_2a7a89cc6c8c66d8175e6ce7b2c5f4d2.setIcon(icon_ee8e82147cd9d5de4a4d99d733c025b3);\n        \n    \n            var marker_7d79401bd147afcec60522229585b9a7 = L.marker(\n                [34.63283416, -120.6107455],\n                {}\n            ).addTo(marker_cluster_32f3608a59b09259f6a6ce1db42dbea7);\n        \n    \n            var icon_306533e849080c66cba474bf01d087cd = L.AwesomeMarkers.icon(\n                {&quot;extraClasses&quot;: &quot;fa-rotate-0&quot;, &quot;icon&quot;: &quot;info-sign&quot;, &quot;iconColor&quot;: &quot;green&quot;, &quot;markerColor&quot;: &quot;white&quot;, &quot;prefix&quot;: &quot;glyphicon&quot;}\n            );\n            marker_7d79401bd147afcec60522229585b9a7.setIcon(icon_306533e849080c66cba474bf01d087cd);\n        \n    \n            var marker_72caba9beae1e0933b109a5d6809e179 = L.marker(\n                [34.63283416, -120.6107455],\n                {}\n            ).addTo(marker_cluster_32f3608a59b09259f6a6ce1db42dbea7);\n        \n    \n            var icon_9754adeb4cc5754d931a1192db5742c0 = L.AwesomeMarkers.icon(\n                {&quot;extraClasses&quot;: &quot;fa-rotate-0&quot;, &quot;icon&quot;: &quot;info-sign&quot;, &quot;iconColor&quot;: &quot;green&quot;, &quot;markerColor&quot;: &quot;white&quot;, &quot;prefix&quot;: &quot;glyphicon&quot;}\n            );\n            marker_72caba9beae1e0933b109a5d6809e179.setIcon(icon_9754adeb4cc5754d931a1192db5742c0);\n        \n    \n            var marker_2020644044739a19fda87510c895f261 = L.marker(\n                [34.63283416, -120.6107455],\n                {}\n            ).addTo(marker_cluster_32f3608a59b09259f6a6ce1db42dbea7);\n        \n    \n            var icon_0d8a896c6389bea71e775babe53a808b = L.AwesomeMarkers.icon(\n                {&quot;extraClasses&quot;: &quot;fa-rotate-0&quot;, &quot;icon&quot;: &quot;info-sign&quot;, &quot;iconColor&quot;: &quot;green&quot;, &quot;markerColor&quot;: &quot;white&quot;, &quot;prefix&quot;: &quot;glyphicon&quot;}\n            );\n            marker_2020644044739a19fda87510c895f261.setIcon(icon_0d8a896c6389bea71e775babe53a808b);\n        \n    \n            var marker_f554979c0f1acd7a5a3c0d2fffab590c = L.marker(\n                [34.63283416, -120.6107455],\n                {}\n            ).addTo(marker_cluster_32f3608a59b09259f6a6ce1db42dbea7);\n        \n    \n            var icon_34cc86f97823dc2938417950906e07cc = L.AwesomeMarkers.icon(\n                {&quot;extraClasses&quot;: &quot;fa-rotate-0&quot;, &quot;icon&quot;: &quot;info-sign&quot;, &quot;iconColor&quot;: &quot;red&quot;, &quot;markerColor&quot;: &quot;white&quot;, &quot;prefix&quot;: &quot;glyphicon&quot;}\n            );\n            marker_f554979c0f1acd7a5a3c0d2fffab590c.setIcon(icon_34cc86f97823dc2938417950906e07cc);\n        \n    \n            var marker_8312b8286616b6a6c0b8a2f079b4d870 = L.marker(\n                [34.63283416, -120.6107455],\n                {}\n            ).addTo(marker_cluster_32f3608a59b09259f6a6ce1db42dbea7);\n        \n    \n            var icon_48985dfd4bbbbecdf81b51274999cbd2 = L.AwesomeMarkers.icon(\n                {&quot;extraClasses&quot;: &quot;fa-rotate-0&quot;, &quot;icon&quot;: &quot;info-sign&quot;, &quot;iconColor&quot;: &quot;red&quot;, &quot;markerColor&quot;: &quot;white&quot;, &quot;prefix&quot;: &quot;glyphicon&quot;}\n            );\n            marker_8312b8286616b6a6c0b8a2f079b4d870.setIcon(icon_48985dfd4bbbbecdf81b51274999cbd2);\n        \n    \n            var marker_4b4a4361a3b944814b6585285c06904e = L.marker(\n                [34.63283416, -120.6107455],\n                {}\n            ).addTo(marker_cluster_32f3608a59b09259f6a6ce1db42dbea7);\n        \n    \n            var icon_2c538a51aacd615a17970d07fe8160c0 = L.AwesomeMarkers.icon(\n                {&quot;extraClasses&quot;: &quot;fa-rotate-0&quot;, &quot;icon&quot;: &quot;info-sign&quot;, &quot;iconColor&quot;: &quot;red&quot;, &quot;markerColor&quot;: &quot;white&quot;, &quot;prefix&quot;: &quot;glyphicon&quot;}\n            );\n            marker_4b4a4361a3b944814b6585285c06904e.setIcon(icon_2c538a51aacd615a17970d07fe8160c0);\n        \n    \n            var marker_9a293cf97c27922073edc9fedc59eebb = L.marker(\n                [34.63283416, -120.6107455],\n                {}\n            ).addTo(marker_cluster_32f3608a59b09259f6a6ce1db42dbea7);\n        \n    \n            var icon_034f1b7f3c2166dc65ca6a2724fc474b = L.AwesomeMarkers.icon(\n                {&quot;extraClasses&quot;: &quot;fa-rotate-0&quot;, &quot;icon&quot;: &quot;info-sign&quot;, &quot;iconColor&quot;: &quot;red&quot;, &quot;markerColor&quot;: &quot;white&quot;, &quot;prefix&quot;: &quot;glyphicon&quot;}\n            );\n            marker_9a293cf97c27922073edc9fedc59eebb.setIcon(icon_034f1b7f3c2166dc65ca6a2724fc474b);\n        \n    \n            var marker_838ede4ab6caad327473c139ada0f506 = L.marker(\n                [28.57325457, -80.64689529],\n                {}\n            ).addTo(marker_cluster_32f3608a59b09259f6a6ce1db42dbea7);\n        \n    \n            var icon_a07defab0be25b3255d83689da4e5609 = L.AwesomeMarkers.icon(\n                {&quot;extraClasses&quot;: &quot;fa-rotate-0&quot;, &quot;icon&quot;: &quot;info-sign&quot;, &quot;iconColor&quot;: &quot;green&quot;, &quot;markerColor&quot;: &quot;white&quot;, &quot;prefix&quot;: &quot;glyphicon&quot;}\n            );\n            marker_838ede4ab6caad327473c139ada0f506.setIcon(icon_a07defab0be25b3255d83689da4e5609);\n        \n    \n            var marker_2a94661b9c0b9b7c19793c879949ada5 = L.marker(\n                [28.57325457, -80.64689529],\n                {}\n            ).addTo(marker_cluster_32f3608a59b09259f6a6ce1db42dbea7);\n        \n    \n            var icon_2b0ee933a3d8254657b8d205b4f85f0f = L.AwesomeMarkers.icon(\n                {&quot;extraClasses&quot;: &quot;fa-rotate-0&quot;, &quot;icon&quot;: &quot;info-sign&quot;, &quot;iconColor&quot;: &quot;red&quot;, &quot;markerColor&quot;: &quot;white&quot;, &quot;prefix&quot;: &quot;glyphicon&quot;}\n            );\n            marker_2a94661b9c0b9b7c19793c879949ada5.setIcon(icon_2b0ee933a3d8254657b8d205b4f85f0f);\n        \n    \n            var marker_d7146d04379b59a72b2d7673f2646c40 = L.marker(\n                [28.57325457, -80.64689529],\n                {}\n            ).addTo(marker_cluster_32f3608a59b09259f6a6ce1db42dbea7);\n        \n    \n            var icon_e050d93fdddc23a263f1ffe7cb6da3c1 = L.AwesomeMarkers.icon(\n                {&quot;extraClasses&quot;: &quot;fa-rotate-0&quot;, &quot;icon&quot;: &quot;info-sign&quot;, &quot;iconColor&quot;: &quot;green&quot;, &quot;markerColor&quot;: &quot;white&quot;, &quot;prefix&quot;: &quot;glyphicon&quot;}\n            );\n            marker_d7146d04379b59a72b2d7673f2646c40.setIcon(icon_e050d93fdddc23a263f1ffe7cb6da3c1);\n        \n    \n            var marker_5086de2d8e5396205835a0b096d47ff2 = L.marker(\n                [28.57325457, -80.64689529],\n                {}\n            ).addTo(marker_cluster_32f3608a59b09259f6a6ce1db42dbea7);\n        \n    \n            var icon_595c992d70cfdef39e88a56abac0921a = L.AwesomeMarkers.icon(\n                {&quot;extraClasses&quot;: &quot;fa-rotate-0&quot;, &quot;icon&quot;: &quot;info-sign&quot;, &quot;iconColor&quot;: &quot;green&quot;, &quot;markerColor&quot;: &quot;white&quot;, &quot;prefix&quot;: &quot;glyphicon&quot;}\n            );\n            marker_5086de2d8e5396205835a0b096d47ff2.setIcon(icon_595c992d70cfdef39e88a56abac0921a);\n        \n    \n            var marker_c048b1832a9af673a3c5e2c4068e884f = L.marker(\n                [28.57325457, -80.64689529],\n                {}\n            ).addTo(marker_cluster_32f3608a59b09259f6a6ce1db42dbea7);\n        \n    \n            var icon_8c1eb0380a93491f2b8316f419d16c2c = L.AwesomeMarkers.icon(\n                {&quot;extraClasses&quot;: &quot;fa-rotate-0&quot;, &quot;icon&quot;: &quot;info-sign&quot;, &quot;iconColor&quot;: &quot;red&quot;, &quot;markerColor&quot;: &quot;white&quot;, &quot;prefix&quot;: &quot;glyphicon&quot;}\n            );\n            marker_c048b1832a9af673a3c5e2c4068e884f.setIcon(icon_8c1eb0380a93491f2b8316f419d16c2c);\n        \n    \n            var marker_c12b6bf7a27e61415856ecf36f8dadef = L.marker(\n                [28.57325457, -80.64689529],\n                {}\n            ).addTo(marker_cluster_32f3608a59b09259f6a6ce1db42dbea7);\n        \n    \n            var icon_df0ce73bb09afbd8c9d38a7f67ce63b7 = L.AwesomeMarkers.icon(\n                {&quot;extraClasses&quot;: &quot;fa-rotate-0&quot;, &quot;icon&quot;: &quot;info-sign&quot;, &quot;iconColor&quot;: &quot;green&quot;, &quot;markerColor&quot;: &quot;white&quot;, &quot;prefix&quot;: &quot;glyphicon&quot;}\n            );\n            marker_c12b6bf7a27e61415856ecf36f8dadef.setIcon(icon_df0ce73bb09afbd8c9d38a7f67ce63b7);\n        \n    \n            var marker_897fdf8447cecee631164657b5243d10 = L.marker(\n                [28.57325457, -80.64689529],\n                {}\n            ).addTo(marker_cluster_32f3608a59b09259f6a6ce1db42dbea7);\n        \n    \n            var icon_a34c5c9635a75cd5ec9f2afb674f3d74 = L.AwesomeMarkers.icon(\n                {&quot;extraClasses&quot;: &quot;fa-rotate-0&quot;, &quot;icon&quot;: &quot;info-sign&quot;, &quot;iconColor&quot;: &quot;green&quot;, &quot;markerColor&quot;: &quot;white&quot;, &quot;prefix&quot;: &quot;glyphicon&quot;}\n            );\n            marker_897fdf8447cecee631164657b5243d10.setIcon(icon_a34c5c9635a75cd5ec9f2afb674f3d74);\n        \n    \n            var marker_cf3e4054b090798e5ce69d9a8ab29d1e = L.marker(\n                [28.57325457, -80.64689529],\n                {}\n            ).addTo(marker_cluster_32f3608a59b09259f6a6ce1db42dbea7);\n        \n    \n            var icon_bc63dd48cd9a672d724a1e8c08a60cb0 = L.AwesomeMarkers.icon(\n                {&quot;extraClasses&quot;: &quot;fa-rotate-0&quot;, &quot;icon&quot;: &quot;info-sign&quot;, &quot;iconColor&quot;: &quot;red&quot;, &quot;markerColor&quot;: &quot;white&quot;, &quot;prefix&quot;: &quot;glyphicon&quot;}\n            );\n            marker_cf3e4054b090798e5ce69d9a8ab29d1e.setIcon(icon_bc63dd48cd9a672d724a1e8c08a60cb0);\n        \n    \n            var marker_8f75066e42dea0f39f4468e0c28ed29a = L.marker(\n                [28.57325457, -80.64689529],\n                {}\n            ).addTo(marker_cluster_32f3608a59b09259f6a6ce1db42dbea7);\n        \n    \n            var icon_3e642aa53c33c9fd5b4f8f414c5c21f9 = L.AwesomeMarkers.icon(\n                {&quot;extraClasses&quot;: &quot;fa-rotate-0&quot;, &quot;icon&quot;: &quot;info-sign&quot;, &quot;iconColor&quot;: &quot;green&quot;, &quot;markerColor&quot;: &quot;white&quot;, &quot;prefix&quot;: &quot;glyphicon&quot;}\n            );\n            marker_8f75066e42dea0f39f4468e0c28ed29a.setIcon(icon_3e642aa53c33c9fd5b4f8f414c5c21f9);\n        \n    \n            var marker_73190a0ec6c850312c411c5971803d99 = L.marker(\n                [28.57325457, -80.64689529],\n                {}\n            ).addTo(marker_cluster_32f3608a59b09259f6a6ce1db42dbea7);\n        \n    \n            var icon_db1077e979f97cbaa7fe83ddf39d7cf5 = L.AwesomeMarkers.icon(\n                {&quot;extraClasses&quot;: &quot;fa-rotate-0&quot;, &quot;icon&quot;: &quot;info-sign&quot;, &quot;iconColor&quot;: &quot;green&quot;, &quot;markerColor&quot;: &quot;white&quot;, &quot;prefix&quot;: &quot;glyphicon&quot;}\n            );\n            marker_73190a0ec6c850312c411c5971803d99.setIcon(icon_db1077e979f97cbaa7fe83ddf39d7cf5);\n        \n    \n            var marker_67620b40bc8dde8f0076f8147b4965cc = L.marker(\n                [28.57325457, -80.64689529],\n                {}\n            ).addTo(marker_cluster_32f3608a59b09259f6a6ce1db42dbea7);\n        \n    \n            var icon_770a68ecd04f14134e7a98bdd2590b14 = L.AwesomeMarkers.icon(\n                {&quot;extraClasses&quot;: &quot;fa-rotate-0&quot;, &quot;icon&quot;: &quot;info-sign&quot;, &quot;iconColor&quot;: &quot;green&quot;, &quot;markerColor&quot;: &quot;white&quot;, &quot;prefix&quot;: &quot;glyphicon&quot;}\n            );\n            marker_67620b40bc8dde8f0076f8147b4965cc.setIcon(icon_770a68ecd04f14134e7a98bdd2590b14);\n        \n    \n            var marker_658b82189320075133f8de5e604fbba3 = L.marker(\n                [28.57325457, -80.64689529],\n                {}\n            ).addTo(marker_cluster_32f3608a59b09259f6a6ce1db42dbea7);\n        \n    \n            var icon_b25bd6a620202449d31aded12734d1a1 = L.AwesomeMarkers.icon(\n                {&quot;extraClasses&quot;: &quot;fa-rotate-0&quot;, &quot;icon&quot;: &quot;info-sign&quot;, &quot;iconColor&quot;: &quot;green&quot;, &quot;markerColor&quot;: &quot;white&quot;, &quot;prefix&quot;: &quot;glyphicon&quot;}\n            );\n            marker_658b82189320075133f8de5e604fbba3.setIcon(icon_b25bd6a620202449d31aded12734d1a1);\n        \n    \n            var marker_85d46fbfd101c79c109f028a376839a3 = L.marker(\n                [28.57325457, -80.64689529],\n                {}\n            ).addTo(marker_cluster_32f3608a59b09259f6a6ce1db42dbea7);\n        \n    \n            var icon_5c2291cac7b5a7b7033cad3b90f1ce61 = L.AwesomeMarkers.icon(\n                {&quot;extraClasses&quot;: &quot;fa-rotate-0&quot;, &quot;icon&quot;: &quot;info-sign&quot;, &quot;iconColor&quot;: &quot;green&quot;, &quot;markerColor&quot;: &quot;white&quot;, &quot;prefix&quot;: &quot;glyphicon&quot;}\n            );\n            marker_85d46fbfd101c79c109f028a376839a3.setIcon(icon_5c2291cac7b5a7b7033cad3b90f1ce61);\n        \n    \n            var marker_3ba40a50eaef31e6733ca1885c1e0636 = L.marker(\n                [28.56319718, -80.57682003],\n                {}\n            ).addTo(marker_cluster_32f3608a59b09259f6a6ce1db42dbea7);\n        \n    \n            var icon_b3dc2c0882d775a3bead2cf4010848f4 = L.AwesomeMarkers.icon(\n                {&quot;extraClasses&quot;: &quot;fa-rotate-0&quot;, &quot;icon&quot;: &quot;info-sign&quot;, &quot;iconColor&quot;: &quot;green&quot;, &quot;markerColor&quot;: &quot;white&quot;, &quot;prefix&quot;: &quot;glyphicon&quot;}\n            );\n            marker_3ba40a50eaef31e6733ca1885c1e0636.setIcon(icon_b3dc2c0882d775a3bead2cf4010848f4);\n        \n    \n            var marker_630a7dc2ddb6a75292683c35de27f31b = L.marker(\n                [28.56319718, -80.57682003],\n                {}\n            ).addTo(marker_cluster_32f3608a59b09259f6a6ce1db42dbea7);\n        \n    \n            var icon_d7bca5319391e32120e87b93f2c8ee95 = L.AwesomeMarkers.icon(\n                {&quot;extraClasses&quot;: &quot;fa-rotate-0&quot;, &quot;icon&quot;: &quot;info-sign&quot;, &quot;iconColor&quot;: &quot;green&quot;, &quot;markerColor&quot;: &quot;white&quot;, &quot;prefix&quot;: &quot;glyphicon&quot;}\n            );\n            marker_630a7dc2ddb6a75292683c35de27f31b.setIcon(icon_d7bca5319391e32120e87b93f2c8ee95);\n        \n    \n            var marker_a4459191556ce1abb716c4fb7677a6cb = L.marker(\n                [28.56319718, -80.57682003],\n                {}\n            ).addTo(marker_cluster_32f3608a59b09259f6a6ce1db42dbea7);\n        \n    \n            var icon_0f09e6d77fb279e6266a04088b497dde = L.AwesomeMarkers.icon(\n                {&quot;extraClasses&quot;: &quot;fa-rotate-0&quot;, &quot;icon&quot;: &quot;info-sign&quot;, &quot;iconColor&quot;: &quot;red&quot;, &quot;markerColor&quot;: &quot;white&quot;, &quot;prefix&quot;: &quot;glyphicon&quot;}\n            );\n            marker_a4459191556ce1abb716c4fb7677a6cb.setIcon(icon_0f09e6d77fb279e6266a04088b497dde);\n        \n    \n            var marker_a0ec17cf902018e02264f2a90a509206 = L.marker(\n                [28.56319718, -80.57682003],\n                {}\n            ).addTo(marker_cluster_32f3608a59b09259f6a6ce1db42dbea7);\n        \n    \n            var icon_d71a769b53ab8d9fbd5f9e6fb06fdcbf = L.AwesomeMarkers.icon(\n                {&quot;extraClasses&quot;: &quot;fa-rotate-0&quot;, &quot;icon&quot;: &quot;info-sign&quot;, &quot;iconColor&quot;: &quot;red&quot;, &quot;markerColor&quot;: &quot;white&quot;, &quot;prefix&quot;: &quot;glyphicon&quot;}\n            );\n            marker_a0ec17cf902018e02264f2a90a509206.setIcon(icon_d71a769b53ab8d9fbd5f9e6fb06fdcbf);\n        \n    \n            var marker_03665704e4ef2f674a579ae3e198c09e = L.marker(\n                [28.56319718, -80.57682003],\n                {}\n            ).addTo(marker_cluster_32f3608a59b09259f6a6ce1db42dbea7);\n        \n    \n            var icon_4e7f5410f50050ec47a8d7e2af3aa2a7 = L.AwesomeMarkers.icon(\n                {&quot;extraClasses&quot;: &quot;fa-rotate-0&quot;, &quot;icon&quot;: &quot;info-sign&quot;, &quot;iconColor&quot;: &quot;red&quot;, &quot;markerColor&quot;: &quot;white&quot;, &quot;prefix&quot;: &quot;glyphicon&quot;}\n            );\n            marker_03665704e4ef2f674a579ae3e198c09e.setIcon(icon_4e7f5410f50050ec47a8d7e2af3aa2a7);\n        \n    \n            var marker_23b26e3adcd70b3b7f4fa9b6d5d2e4c3 = L.marker(\n                [28.56319718, -80.57682003],\n                {}\n            ).addTo(marker_cluster_32f3608a59b09259f6a6ce1db42dbea7);\n        \n    \n            var icon_af76e5a910c6c59aa42d56432462f418 = L.AwesomeMarkers.icon(\n                {&quot;extraClasses&quot;: &quot;fa-rotate-0&quot;, &quot;icon&quot;: &quot;info-sign&quot;, &quot;iconColor&quot;: &quot;green&quot;, &quot;markerColor&quot;: &quot;white&quot;, &quot;prefix&quot;: &quot;glyphicon&quot;}\n            );\n            marker_23b26e3adcd70b3b7f4fa9b6d5d2e4c3.setIcon(icon_af76e5a910c6c59aa42d56432462f418);\n        \n    \n            var marker_b1f84a999705235b545895adc00a2ae0 = L.marker(\n                [28.56319718, -80.57682003],\n                {}\n            ).addTo(marker_cluster_32f3608a59b09259f6a6ce1db42dbea7);\n        \n    \n            var icon_91110a108514b680b854a46e4a636fcc = L.AwesomeMarkers.icon(\n                {&quot;extraClasses&quot;: &quot;fa-rotate-0&quot;, &quot;icon&quot;: &quot;info-sign&quot;, &quot;iconColor&quot;: &quot;red&quot;, &quot;markerColor&quot;: &quot;white&quot;, &quot;prefix&quot;: &quot;glyphicon&quot;}\n            );\n            marker_b1f84a999705235b545895adc00a2ae0.setIcon(icon_91110a108514b680b854a46e4a636fcc);\n        \n    \n            marker_cluster_32f3608a59b09259f6a6ce1db42dbea7.addTo(map_0fd965b045f642f248da0b39aa331039);\n        \n&lt;/script&gt;\n&lt;/html&gt;\" style=\"position:absolute;width:100%;height:100%;left:0;top:0;border:none !important;\" allowfullscreen webkitallowfullscreen mozallowfullscreen></iframe></div></div>"
          },
          "metadata": {}
        }
      ],
      "execution_count": 22
    },
    {
      "cell_type": "markdown",
      "source": "Your updated map may look like the following screenshots:\n",
      "metadata": {}
    },
    {
      "cell_type": "markdown",
      "source": "<center>\n    <img src=\"https://cf-courses-data.s3.us.cloud-object-storage.appdomain.cloud/IBM-DS0321EN-SkillsNetwork/labs/module_3/images/launch_site_marker_cluster.png\">\n</center>\n",
      "metadata": {}
    },
    {
      "cell_type": "markdown",
      "source": "<center>\n    <img src=\"https://cf-courses-data.s3.us.cloud-object-storage.appdomain.cloud/IBM-DS0321EN-SkillsNetwork/labs/module_3/images/launch_site_marker_cluster_zoomed.png\">\n</center>\n",
      "metadata": {}
    },
    {
      "cell_type": "markdown",
      "source": "From the color-labeled markers in marker clusters, you should be able to easily identify which launch sites have relatively high success rates.\n",
      "metadata": {}
    },
    {
      "cell_type": "code",
      "source": "# TASK 3: Calculate the distances between a launch site to its proximities\n",
      "metadata": {},
      "outputs": [],
      "execution_count": null
    },
    {
      "cell_type": "markdown",
      "source": "Next, we need to explore and analyze the proximities of launch sites.\n",
      "metadata": {}
    },
    {
      "cell_type": "markdown",
      "source": "Let's first add a `MousePosition` on the map to get coordinate for a mouse over a point on the map. As such, while you are exploring the map, you can easily find the coordinates of any points of interests (such as railway)\n",
      "metadata": {}
    },
    {
      "cell_type": "code",
      "source": "# Add Mouse Position to get the coordinate (Lat, Long) for a mouse over on the map\nformatter = \"function(num) {return L.Util.formatNum(num, 5);};\"\nmouse_position = MousePosition(\n    position='topright',\n    separator=' Long: ',\n    empty_string='NaN',\n    lng_first=False,\n    num_digits=20,\n    prefix='Lat:',\n    lat_formatter=formatter,\n    lng_formatter=formatter,\n)\n\nsite_map.add_child(mouse_position)\nsite_map",
      "metadata": {},
      "outputs": [],
      "execution_count": null
    },
    {
      "cell_type": "markdown",
      "source": "Now zoom in to a launch site and explore its proximity to see if you can easily find any railway, highway, coastline, etc. Move your mouse to these points and mark down their coordinates (shown on the top-left) in order to the distance to the launch site.\n",
      "metadata": {}
    },
    {
      "cell_type": "markdown",
      "source": "Now zoom in to a launch site and explore its proximity to see if you can easily find any railway, highway, coastline, etc. Move your mouse to these points and mark down their coordinates (shown on the top-left) in order to the distance to the launch site.\n",
      "metadata": {}
    },
    {
      "cell_type": "code",
      "source": "from math import sin, cos, sqrt, atan2, radians\n\ndef calculate_distance(lat1, lon1, lat2, lon2):\n    # approximate radius of earth in km\n    R = 6373.0\n\n    lat1 = radians(lat1)\n    lon1 = radians(lon1)\n    lat2 = radians(lat2)\n    lon2 = radians(lon2)\n\n    dlon = lon2 - lon1\n    dlat = lat2 - lat1\n\n    a = sin(dlat / 2)**2 + cos(lat1) * cos(lat2) * sin(dlon / 2)**2\n    c = 2 * atan2(sqrt(a), sqrt(1 - a))\n\n    distance = R * c\n    return distance",
      "metadata": {},
      "outputs": [],
      "execution_count": null
    },
    {
      "cell_type": "markdown",
      "source": "*TODO:* Mark down a point on the closest coastline using MousePosition and calculate the distance between the coastline point and the launch site.\n",
      "metadata": {}
    },
    {
      "cell_type": "code",
      "source": "# find coordinate of the closet coastline\n# e.g.,: Lat: 28.56367  Lon: -80.57163\n# distance_coastline = calculate_distance(launch_site_lat, launch_site_lon, coastline_lat, coastline_lon)",
      "metadata": {},
      "outputs": [],
      "execution_count": null
    },
    {
      "cell_type": "code",
      "source": "# Create and add a folium.Marker on your selected closest coastline point on the map\n# Display the distance between coastline point and launch site using the icon property \n# for example\n# distance_marker = folium.Marker(\n#    coordinate,\n#    icon=DivIcon(\n#        icon_size=(20,20),\n#        icon_anchor=(0,0),\n#        html='<div style=\"font-size: 12; color:#d35400;\"><b>%s</b></div>' % \"{:10.2f} KM\".format(distance),\n#        )\n#    )",
      "metadata": {},
      "outputs": [],
      "execution_count": null
    },
    {
      "cell_type": "markdown",
      "source": "*TODO:* Draw a `PolyLine` between a launch site to the selected coastline point\n",
      "metadata": {}
    },
    {
      "cell_type": "code",
      "source": "# Create a `folium.PolyLine` object using the coastline coordinates and launch site coordinate\n# lines=folium.PolyLine(locations=coordinates, weight=1)\nsite_map.add_child(lines)",
      "metadata": {},
      "outputs": [],
      "execution_count": null
    },
    {
      "cell_type": "markdown",
      "source": "Your updated map with distance line should look like the following screenshot:\n",
      "metadata": {}
    },
    {
      "cell_type": "markdown",
      "source": "<center>\n    <img src=\"https://cf-courses-data.s3.us.cloud-object-storage.appdomain.cloud/IBM-DS0321EN-SkillsNetwork/labs/module_3/images/launch_site_marker_distance.png\">\n</center>\n",
      "metadata": {}
    },
    {
      "cell_type": "markdown",
      "source": "*TODO:* Similarly, you can draw a line betwee a launch site to its closest city, railway, highway, etc. You need to use `MousePosition` to find the their coordinates on the map first\n",
      "metadata": {}
    },
    {
      "cell_type": "markdown",
      "source": "A railway map symbol may look like this:\n",
      "metadata": {}
    },
    {
      "cell_type": "markdown",
      "source": "<center>\n    <img src=\"https://cf-courses-data.s3.us.cloud-object-storage.appdomain.cloud/IBM-DS0321EN-SkillsNetwork/labs/module_3/images/railway.png\">\n</center>\n",
      "metadata": {}
    },
    {
      "cell_type": "markdown",
      "source": "A highway map symbol may look like this:\n",
      "metadata": {}
    },
    {
      "cell_type": "markdown",
      "source": "<center>\n    <img src=\"https://cf-courses-data.s3.us.cloud-object-storage.appdomain.cloud/IBM-DS0321EN-SkillsNetwork/labs/module_3/images/highway.png\">\n</center>\n",
      "metadata": {}
    },
    {
      "cell_type": "markdown",
      "source": "A city map symbol may look like this:\n",
      "metadata": {}
    },
    {
      "cell_type": "markdown",
      "source": "<center>\n    <img src=\"https://cf-courses-data.s3.us.cloud-object-storage.appdomain.cloud/IBM-DS0321EN-SkillsNetwork/labs/module_3/images/city.png\">\n</center>\n",
      "metadata": {}
    },
    {
      "cell_type": "code",
      "source": "# Create a marker with distance to a closest city, railway, highway, etc.\n# Draw a line between the marker to the launch site\n",
      "metadata": {},
      "outputs": [],
      "execution_count": null
    },
    {
      "cell_type": "code",
      "source": "",
      "metadata": {},
      "outputs": [],
      "execution_count": null
    },
    {
      "cell_type": "code",
      "source": "",
      "metadata": {},
      "outputs": [],
      "execution_count": null
    },
    {
      "cell_type": "markdown",
      "source": "After you plot distance lines to the proximities, you can answer the following questions easily:\n\n*   Are launch sites in close proximity to railways?\n*   Are launch sites in close proximity to highways?\n*   Are launch sites in close proximity to coastline?\n*   Do launch sites keep certain distance away from cities?\n\nAlso please try to explain your findings.\n",
      "metadata": {}
    },
    {
      "cell_type": "markdown",
      "source": "# Next Steps:\n\nNow you have discovered many interesting insights related to the launch sites' location using folium, in a very interactive way. Next, you will need to build a dashboard using Ploty Dash on detailed launch records.\n",
      "metadata": {}
    },
    {
      "cell_type": "markdown",
      "source": "## Authors\n",
      "metadata": {}
    },
    {
      "cell_type": "markdown",
      "source": "[Pratiksha Verma](https://www.linkedin.com/in/pratiksha-verma-6487561b1/)\n",
      "metadata": {}
    },
    {
      "cell_type": "markdown",
      "source": "<!--## Change Log--!>\n",
      "metadata": {}
    },
    {
      "cell_type": "markdown",
      "source": "<!--| Date (YYYY-MM-DD) | Version | Changed By      | Change Description      |\n| ----------------- | ------- | -------------   | ----------------------- |\n| 2022-11-09        | 1.0     | Pratiksha Verma | Converted initial version to Jupyterlite|--!>\n",
      "metadata": {}
    },
    {
      "cell_type": "markdown",
      "source": "### <h3 align=\"center\"> IBM Corporation 2022. All rights reserved. <h3/>\n",
      "metadata": {}
    }
  ]
}